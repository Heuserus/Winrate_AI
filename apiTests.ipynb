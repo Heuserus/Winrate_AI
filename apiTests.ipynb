{
 "cells": [
  {
   "cell_type": "code",
   "execution_count": 61,
   "metadata": {},
   "outputs": [],
   "source": [
    "import requests\n",
    "import pandas as pd\n",
    "import time"
   ]
  },
  {
   "cell_type": "code",
   "execution_count": 2,
   "metadata": {},
   "outputs": [
    {
     "name": "stdout",
     "output_type": "stream",
     "text": [
      "{'puuid': 'T5DeJs65YarvCu_28sOUGmS_AY_wlxk-CZmgqrcMauLYkQKjXkXfSMHn469kOq3VB4q1KRxv-u7taw', 'gameName': 'Schmeuser', 'tagLine': '0000'}\n"
     ]
    }
   ],
   "source": [
    "\n",
    "\n",
    "def get_account_details(api_key, game_name, tag_line):\n",
    "    url = f\"https://europe.api.riotgames.com/riot/account/v1/accounts/by-riot-id/{game_name}/{tag_line}\"\n",
    "    headers = {\n",
    "        \"X-Riot-Token\": api_key\n",
    "    }\n",
    "\n",
    "    response = requests.get(url, headers=headers)\n",
    "\n",
    "    if response.status_code == 200:\n",
    "        return response.json()\n",
    "    else:\n",
    "        return {\n",
    "            \"status\": response.status_code,\n",
    "            \"message\": response.reason,\n",
    "            \"details\": response.json() if response.content else {}\n",
    "        }\n",
    "\n"
   ]
  },
  {
   "cell_type": "code",
   "execution_count": null,
   "metadata": {},
   "outputs": [],
   "source": [
    "game_name = \"schmeuser\"\n",
    "tag_line = \"0000\"\n",
    "api_key = \"RGAPI-af9e233d-22bd-47db-a331-726701778a18\"\n",
    "\n",
    "account_details = get_account_details(api_key, game_name, tag_line)\n",
    "\n",
    "print(account_details)"
   ]
  },
  {
   "cell_type": "code",
   "execution_count": 4,
   "metadata": {},
   "outputs": [
    {
     "name": "stdout",
     "output_type": "stream",
     "text": [
      "['EUW1_7199096693', 'EUW1_7198712841', 'EUW1_7198659225', 'EUW1_7198620052', 'EUW1_7198578433', 'EUW1_7198547443', 'EUW1_7198496063', 'EUW1_7198398846', 'EUW1_7198338079', 'EUW1_7198284665', 'EUW1_7198119002', 'EUW1_7196179595', 'EUW1_7196095982', 'EUW1_7195926379', 'EUW1_7195343634', 'EUW1_7195252792', 'EUW1_7195172518', 'EUW1_7195110431', 'EUW1_7195006056', 'EUW1_7194622301']\n"
     ]
    }
   ],
   "source": [
    "def get_match_ids(api_key, puuid, start=0, count=20):\n",
    "    url = f\"https://europe.api.riotgames.com/lol/match/v5/matches/by-puuid/{puuid}/ids\"\n",
    "    params = {\n",
    "        \"start\": start,\n",
    "        \"count\": count\n",
    "    }\n",
    "    headers = {\n",
    "        \"X-Riot-Token\": api_key\n",
    "    }\n",
    "\n",
    "    response = requests.get(url, headers=headers, params=params)\n",
    "\n",
    "    if response.status_code == 200:\n",
    "        return response.json()\n",
    "    else:\n",
    "        return {\n",
    "            \"status\": response.status_code,\n",
    "            \"message\": response.reason,\n",
    "            \"details\": response.json() if response.content else {}\n",
    "        }\n",
    "\n"
   ]
  },
  {
   "cell_type": "code",
   "execution_count": 40,
   "metadata": {},
   "outputs": [],
   "source": [
    "def get_active_match(api_key, puuid):\n",
    "    url = f\"https://euw1.api.riotgames.com/lol/spectator/v5/active-games/by-summoner/{puuid}\"\n",
    "    \n",
    "    headers = {\n",
    "        \"X-Riot-Token\": api_key\n",
    "    }\n",
    "\n",
    "    response = requests.get(url, headers=headers)\n",
    "\n",
    "    if response.status_code == 200:\n",
    "        return response.json()\n",
    "    else:\n",
    "        return {\n",
    "            \"status\": response.status_code,\n",
    "            \"message\": response.reason,\n",
    "            \"details\": response.json() if response.content else {}\n",
    "        }"
   ]
  },
  {
   "cell_type": "code",
   "execution_count": 48,
   "metadata": {},
   "outputs": [
    {
     "name": "stdout",
     "output_type": "stream",
     "text": [
      "{'status': 404, 'message': 'Not Found', 'details': {'status': {'message': \"Data not found - spectator game info isn't found\", 'status_code': 404}}}\n"
     ]
    }
   ],
   "source": [
    "puuid = \"T5DeJs65YarvCu_28sOUGmS_AY_wlxk-CZmgqrcMauLYkQKjXkXfSMHn469kOq3VB4q1KRxv-u7taw\"  \n",
    "api_key = \"RGAPI-af9e233d-22bd-47db-a331-726701778a18\"\n",
    "\n",
    "active_match = get_active_match(api_key, puuid)\n",
    "\n",
    "print(active_match)"
   ]
  },
  {
   "cell_type": "code",
   "execution_count": 54,
   "metadata": {},
   "outputs": [
    {
     "name": "stdout",
     "output_type": "stream",
     "text": [
      "['EUW1_7199895737', 'EUW1_7199809385', 'EUW1_7199725283', 'EUW1_7199709502', 'EUW1_7199498642', 'EUW1_7199322534', 'EUW1_7199286127', 'EUW1_7199258052', 'EUW1_7199096693', 'EUW1_7198712841', 'EUW1_7198659225', 'EUW1_7198620052', 'EUW1_7198578433', 'EUW1_7198547443', 'EUW1_7198496063', 'EUW1_7198398846', 'EUW1_7198338079', 'EUW1_7198284665', 'EUW1_7198119002', 'EUW1_7196179595']\n"
     ]
    }
   ],
   "source": [
    "puuid = \"T5DeJs65YarvCu_28sOUGmS_AY_wlxk-CZmgqrcMauLYkQKjXkXfSMHn469kOq3VB4q1KRxv-u7taw\"  \n",
    "api_key = \"RGAPI-af9e233d-22bd-47db-a331-726701778a18\"\n",
    "\n",
    "match_ids = get_match_ids(api_key, puuid)\n",
    "\n",
    "print(match_ids)"
   ]
  },
  {
   "cell_type": "code",
   "execution_count": 6,
   "metadata": {},
   "outputs": [],
   "source": [
    "def get_match_details(api_key, match_id):\n",
    "  \n",
    "    url = f\"https://europe.api.riotgames.com/lol/match/v5/matches/{match_id}\"\n",
    "    headers = {\n",
    "        \"X-Riot-Token\": api_key\n",
    "    }\n",
    "\n",
    "    response = requests.get(url, headers=headers)\n",
    "\n",
    "    if response.status_code == 200:\n",
    "        return response.json()\n",
    "    else:\n",
    "        return {\n",
    "            \"status\": response.status_code,\n",
    "            \"message\": response.reason,\n",
    "            \"details\": response.json() if response.content else {}\n",
    "        }\n",
    "\n"
   ]
  },
  {
   "cell_type": "code",
   "execution_count": 8,
   "metadata": {},
   "outputs": [
    {
     "name": "stdout",
     "output_type": "stream",
     "text": [
      "{'metadata': {'dataVersion': '2', 'matchId': 'EUW1_7199096693', 'participants': ['mv3HASxS5bdGpCdIv9SajEs_JchJMMbvlU1SfqIwpRnk5ahgAFyxrGw4kbLkis7CtKApvje71Xtvjw', 'T5DeJs65YarvCu_28sOUGmS_AY_wlxk-CZmgqrcMauLYkQKjXkXfSMHn469kOq3VB4q1KRxv-u7taw', '0jVjtLcA9f0rOcmWL79yW-mWuYvOauTd8qkff7a0S9AU1cvb3vpw83rK8tufrVnIJp7vRbh6GlCiJQ', 'qSwjazdedEO4D7FyDgvJJO2amlGvLZ_ux2Lo5Oma-_bXmfppjiw8wVWdyQnM8Lei-hCulQkGLjj9sg', 'mepS4drpmwoNTCuQpEehzar_GzEWbSD2SKzbmjgmF6Q1pOMeumKCIEhcJUix-xovP5latNMuJ3K5Qw', 'aOwFuOQ02d05Ts7HmJOcO7CNuZfqURmmNC7bLPnNs2b-mSw21tDp66PQ0i5bNrOdl5hGIGnaDDOxiQ', 'Z8rjiJZXskBmzXFwBaFU1jcNPY8S_bFhg_QS5Zrl-Q8s8u9O23JcZVe_NUfM2eLpvVDBI9aXdjl2wQ', 'Qa2EChGhASvCiRiSMoP0MCdbMVTyXS7bcvrrWdU9IyoGB50YL_ISxh5OAm_L1XnCqP0aydx9sSqdVQ', '_3JLdRPGDi9m1S9ndiFAy1izoV2lJqD0qDq9qgqknG4auDxpRIwDaX9Ol8pxVxb__ZLgnD7-S-EuXw', 'w7jfGGav35e9_TMadwtJUPzgvfzk8eMU3gS_XiqjfVHk6rDPQLx74o4lYMeSOOHKB1tBNrOVQOrsJw']}, 'info': {'endOfGameResult': 'GameComplete', 'gameCreation': 1732440250759, 'gameDuration': 1182, 'gameEndTimestamp': 1732441532421, 'gameId': 7199096693, 'gameMode': 'CLASSIC', 'gameName': 'teambuilder-match-7199096693', 'gameStartTimestamp': 1732440350196, 'gameType': 'MATCHED_GAME', 'gameVersion': '14.23.636.9832', 'mapId': 11, 'participants': [{'allInPings': 0, 'assistMePings': 0, 'assists': 0, 'baronKills': 0, 'basicPings': 0, 'bountyLevel': 0, 'challenges': {'12AssistStreakCount': 0, 'HealFromMapSources': 0, 'InfernalScalePickup': 0, 'SWARM_DefeatAatrox': 0, 'SWARM_DefeatBriar': 0, 'SWARM_DefeatMiniBosses': 0, 'SWARM_EvolveWeapon': 0, 'SWARM_Have3Passives': 0, 'SWARM_KillEnemy': 0, 'SWARM_PickupGold': 0, 'SWARM_ReachLevel50': 0, 'SWARM_Survive15Min': 0, 'SWARM_WinWith5EvolvedWeapons': 0, 'abilityUses': 41, 'acesBefore15Minutes': 0, 'alliedJungleMonsterKills': 0, 'baronTakedowns': 0, 'blastConeOppositeOpponentCount': 0, 'bountyGold': 0, 'buffsStolen': 0, 'completeSupportQuestInTime': 0, 'controlWardsPlaced': 0, 'damagePerMinute': 90.06194671152822, 'damageTakenOnTeamPercentage': 0.03976323884681331, 'dancedWithRiftHerald': 0, 'deathsByEnemyChamps': 2, 'dodgeSkillShotsSmallWindow': 0, 'doubleAces': 0, 'dragonTakedowns': 0, 'earlyLaningPhaseGoldExpAdvantage': 0, 'effectiveHealAndShielding': 0, 'elderDragonKillsWithOpposingSoul': 0, 'elderDragonMultikills': 0, 'enemyChampionImmobilizations': 6, 'enemyJungleMonsterKills': 0, 'epicMonsterKillsNearEnemyJungler': 0, 'epicMonsterKillsWithin30SecondsOfSpawn': 0, 'epicMonsterSteals': 0, 'epicMonsterStolenWithoutSmite': 0, 'firstTurretKilled': 0, 'fistBumpParticipation': 0, 'flawlessAces': 0, 'fullTeamTakedown': 0, 'gameLength': 1182.5464899840001, 'getTakedownsInAllLanesEarlyJungleAsLaner': 0, 'goldPerMinute': 161.49598792894724, 'hadOpenNexus': 0, 'immobilizeAndKillWithAlly': 0, 'initialBuffCount': 0, 'initialCrabCount': 0, 'jungleCsBefore10Minutes': 0, 'junglerTakedownsNearDamagedEpicMonster': 0, 'kTurretsDestroyedBeforePlatesFall': 0, 'kda': 0, 'killAfterHiddenWithAlly': 0, 'killParticipation': 0, 'killedChampTookFullTeamDamageSurvived': 0, 'killingSprees': 0, 'killsNearEnemyTurret': 0, 'killsOnOtherLanesEarlyJungleAsLaner': 0, 'killsOnRecentlyHealedByAramPack': 0, 'killsUnderOwnTurret': 0, 'killsWithHelpFromEpicMonster': 0, 'knockEnemyIntoTeamAndKill': 0, 'landSkillShotsEarlyGame': 3, 'laneMinionsFirst10Minutes': 20, 'laningPhaseGoldExpAdvantage': 0, 'legendaryCount': 0, 'legendaryItemUsed': [], 'lostAnInhibitor': 0, 'maxCsAdvantageOnLaneOpponent': 6, 'maxKillDeficit': 0, 'maxLevelLeadLaneOpponent': 1, 'mejaisFullStackInTime': 0, 'moreEnemyJungleThanOpponent': 0, 'multiKillOneSpell': 0, 'multiTurretRiftHeraldCount': 0, 'multikills': 0, 'multikillsAfterAggressiveFlash': 0, 'outerTurretExecutesBefore10Minutes': 0, 'outnumberedKills': 0, 'outnumberedNexusKill': 0, 'perfectDragonSoulsTaken': 0, 'perfectGame': 0, 'pickKillWithAlly': 0, 'playedChampSelectPosition': 1, 'poroExplosions': 0, 'quickCleanse': 0, 'quickFirstTurret': 0, 'quickSoloKills': 0, 'riftHeraldTakedowns': 0, 'saveAllyFromDeath': 0, 'scuttleCrabKills': 0, 'skillshotsDodged': 0, 'skillshotsHit': 3, 'snowballsHit': 0, 'soloBaronKills': 0, 'soloKills': 0, 'stealthWardsPlaced': 1, 'survivedSingleDigitHpCount': 0, 'survivedThreeImmobilizesInFight': 2, 'takedownOnFirstTurret': 0, 'takedowns': 0, 'takedownsAfterGainingLevelAdvantage': 0, 'takedownsBeforeJungleMinionSpawn': 0, 'takedownsFirstXMinutes': 0, 'takedownsInAlcove': 0, 'takedownsInEnemyFountain': 0, 'teamBaronKills': 0, 'teamDamagePercentage': 0.040227175202081335, 'teamElderDragonKills': 0, 'teamRiftHeraldKills': 0, 'tookLargeDamageSurvived': 0, 'turretPlatesTaken': 0, 'turretTakedowns': 0, 'turretsTakenWithRiftHerald': 0, 'twentyMinionsIn3SecondsCount': 0, 'twoWardsOneSweeperCount': 0, 'unseenRecalls': 0, 'visionScoreAdvantageLaneOpponent': -0.8821995258331299, 'visionScorePerMinute': 0.07650708479697521, 'voidMonsterKill': 0, 'wardTakedowns': 0, 'wardTakedownsBefore20M': 0, 'wardsGuarded': 0}, 'champExperience': 1513, 'champLevel': 4, 'championId': 126, 'championName': 'Jayce', 'championTransform': 0, 'commandPings': 0, 'consumablesPurchased': 3, 'damageDealtToBuildings': 0, 'damageDealtToObjectives': 0, 'damageDealtToTurrets': 0, 'damageSelfMitigated': 789, 'dangerPings': 0, 'deaths': 2, 'detectorWardsPlaced': 0, 'doubleKills': 0, 'dragonKills': 0, 'eligibleForProgression': False, 'enemyMissingPings': 1, 'enemyVisionPings': 0, 'firstBloodAssist': False, 'firstBloodKill': False, 'firstTowerAssist': False, 'firstTowerKill': False, 'gameEndedInEarlySurrender': False, 'gameEndedInSurrender': True, 'getBackPings': 0, 'goldEarned': 3182, 'goldSpent': 1250, 'holdPings': 0, 'individualPosition': 'TOP', 'inhibitorKills': 0, 'inhibitorTakedowns': 0, 'inhibitorsLost': 0, 'item0': 3070, 'item1': 2422, 'item2': 2010, 'item3': 1036, 'item4': 1036, 'item5': 0, 'item6': 3340, 'itemsPurchased': 6, 'killingSprees': 0, 'kills': 0, 'lane': 'NONE', 'largestCriticalStrike': 0, 'largestKillingSpree': 0, 'largestMultiKill': 0, 'longestTimeSpentLiving': 190, 'magicDamageDealt': 845, 'magicDamageDealtToChampions': 175, 'magicDamageTaken': 380, 'missions': {'playerScore0': 0, 'playerScore1': 0, 'playerScore2': 0, 'playerScore3': 0, 'playerScore4': 0, 'playerScore5': 0, 'playerScore6': 0, 'playerScore7': 0, 'playerScore8': 0, 'playerScore9': 0, 'playerScore10': 0, 'playerScore11': 0}, 'needVisionPings': 0, 'neutralMinionsKilled': 0, 'nexusKills': 0, 'nexusLost': 1, 'nexusTakedowns': 0, 'objectivesStolen': 0, 'objectivesStolenAssists': 0, 'onMyWayPings': 0, 'participantId': 1, 'pentaKills': 0, 'perks': {'statPerks': {'defense': 5001, 'flex': 5008, 'offense': 5008}, 'styles': [{'description': 'primaryStyle', 'selections': [{'perk': 8230, 'var1': 3, 'var2': 0, 'var3': 0}, {'perk': 8226, 'var1': 125, 'var2': 0, 'var3': 0}, {'perk': 8233, 'var1': 15, 'var2': 20, 'var3': 0}, {'perk': 8236, 'var1': 4, 'var2': 0, 'var3': 0}], 'style': 8200}, {'description': 'subStyle', 'selections': [{'perk': 8304, 'var1': 12, 'var2': 0, 'var3': 0}, {'perk': 8345, 'var1': 3, 'var2': 0, 'var3': 72}], 'style': 8300}]}, 'physicalDamageDealt': 5992, 'physicalDamageDealtToChampions': 1599, 'physicalDamageTaken': 2254, 'placement': 0, 'playerAugment1': 0, 'playerAugment2': 0, 'playerAugment3': 0, 'playerAugment4': 0, 'playerAugment5': 0, 'playerAugment6': 0, 'playerSubteamId': 0, 'profileIcon': 6506, 'pushPings': 0, 'puuid': 'mv3HASxS5bdGpCdIv9SajEs_JchJMMbvlU1SfqIwpRnk5ahgAFyxrGw4kbLkis7CtKApvje71Xtvjw', 'quadraKills': 0, 'retreatPings': 0, 'riotIdGameName': 'Miyamoto Musashi', 'riotIdTagline': '内なる平和', 'role': 'SUPPORT', 'sightWardsBoughtInGame': 0, 'spell1Casts': 13, 'spell2Casts': 6, 'spell3Casts': 8, 'spell4Casts': 14, 'subteamPlacement': 0, 'summoner1Casts': 1, 'summoner1Id': 12, 'summoner2Casts': 1, 'summoner2Id': 4, 'summonerId': 'bJgsBxeHsBhmGXsa3MPpeOo_XAJAvXek3mkd6KHvflilRSFM0U9e2X6JLg', 'summonerLevel': 279, 'summonerName': 'Yercalat', 'teamEarlySurrendered': False, 'teamId': 100, 'teamPosition': 'TOP', 'timeCCingOthers': 2, 'timePlayed': 1182, 'totalAllyJungleMinionsKilled': 0, 'totalDamageDealt': 6838, 'totalDamageDealtToChampions': 1775, 'totalDamageShieldedOnTeammates': 0, 'totalDamageTaken': 2634, 'totalEnemyJungleMinionsKilled': 0, 'totalHeal': 0, 'totalHealsOnTeammates': 0, 'totalMinionsKilled': 20, 'totalTimeCCDealt': 15, 'totalTimeSpentDead': 24, 'totalUnitsHealed': 0, 'tripleKills': 0, 'trueDamageDealt': 0, 'trueDamageDealtToChampions': 0, 'trueDamageTaken': 0, 'turretKills': 0, 'turretTakedowns': 0, 'turretsLost': 5, 'unrealKills': 0, 'visionClearedPings': 0, 'visionScore': 1, 'visionWardsBoughtInGame': 0, 'wardsKilled': 0, 'wardsPlaced': 1, 'win': False}, {'allInPings': 0, 'assistMePings': 1, 'assists': 5, 'baronKills': 0, 'basicPings': 0, 'bountyLevel': 3, 'challenges': {'12AssistStreakCount': 0, 'HealFromMapSources': 76, 'InfernalScalePickup': 0, 'SWARM_DefeatAatrox': 0, 'SWARM_DefeatBriar': 0, 'SWARM_DefeatMiniBosses': 0, 'SWARM_EvolveWeapon': 0, 'SWARM_Have3Passives': 0, 'SWARM_KillEnemy': 0, 'SWARM_PickupGold': 0, 'SWARM_ReachLevel50': 0, 'SWARM_Survive15Min': 0, 'SWARM_WinWith5EvolvedWeapons': 0, 'abilityUses': 106, 'acesBefore15Minutes': 0, 'alliedJungleMonsterKills': 43, 'baronTakedowns': 0, 'blastConeOppositeOpponentCount': 1, 'bountyGold': 0, 'buffsStolen': 0, 'completeSupportQuestInTime': 0, 'controlWardsPlaced': 0, 'damagePerMinute': 607.3860373744952, 'damageTakenOnTeamPercentage': 0.33291668917619605, 'dancedWithRiftHerald': 0, 'deathsByEnemyChamps': 3, 'dodgeSkillShotsSmallWindow': 0, 'doubleAces': 0, 'dragonTakedowns': 2, 'earliestDragonTakedown': 470.30589422900005, 'earlyLaningPhaseGoldExpAdvantage': 0, 'effectiveHealAndShielding': 0, 'elderDragonKillsWithOpposingSoul': 0, 'elderDragonMultikills': 0, 'enemyChampionImmobilizations': 7, 'enemyJungleMonsterKills': 1, 'epicMonsterKillsNearEnemyJungler': 0, 'epicMonsterKillsWithin30SecondsOfSpawn': 0, 'epicMonsterSteals': 0, 'epicMonsterStolenWithoutSmite': 0, 'firstTurretKilled': 0, 'fistBumpParticipation': 0, 'flawlessAces': 0, 'fullTeamTakedown': 0, 'gameLength': 1182.5464899840001, 'goldPerMinute': 336.22484785122873, 'hadAfkTeammate': 1, 'hadOpenNexus': 0, 'highestCrowdControlScore': 1, 'immobilizeAndKillWithAlly': 2, 'initialBuffCount': 2, 'initialCrabCount': 1, 'jungleCsBefore10Minutes': 48.40000009536743, 'junglerKillsEarlyJungle': 0, 'junglerTakedownsNearDamagedEpicMonster': 0, 'kTurretsDestroyedBeforePlatesFall': 0, 'kda': 2.6666666666666665, 'killAfterHiddenWithAlly': 0, 'killParticipation': 0.6666666666666666, 'killedChampTookFullTeamDamageSurvived': 0, 'killingSprees': 0, 'killsNearEnemyTurret': 1, 'killsOnLanersEarlyJungleAsJungler': 1, 'killsOnRecentlyHealedByAramPack': 0, 'killsUnderOwnTurret': 0, 'killsWithHelpFromEpicMonster': 0, 'knockEnemyIntoTeamAndKill': 0, 'landSkillShotsEarlyGame': 4, 'laneMinionsFirst10Minutes': 11, 'laningPhaseGoldExpAdvantage': 0, 'legendaryCount': 0, 'legendaryItemUsed': [6631], 'lostAnInhibitor': 0, 'maxCsAdvantageOnLaneOpponent': 4, 'maxKillDeficit': 0, 'maxLevelLeadLaneOpponent': 1, 'mejaisFullStackInTime': 0, 'moreEnemyJungleThanOpponent': -44.90000003576279, 'multiKillOneSpell': 0, 'multiTurretRiftHeraldCount': 0, 'multikills': 0, 'multikillsAfterAggressiveFlash': 0, 'outerTurretExecutesBefore10Minutes': 0, 'outnumberedKills': 0, 'outnumberedNexusKill': 0, 'perfectDragonSoulsTaken': 0, 'perfectGame': 0, 'pickKillWithAlly': 7, 'playedChampSelectPosition': 1, 'poroExplosions': 0, 'quickCleanse': 0, 'quickFirstTurret': 0, 'quickSoloKills': 0, 'riftHeraldTakedowns': 0, 'saveAllyFromDeath': 0, 'scuttleCrabKills': 1, 'skillshotsDodged': 19, 'skillshotsHit': 23, 'snowballsHit': 0, 'soloBaronKills': 0, 'soloKills': 1, 'stealthWardsPlaced': 0, 'survivedSingleDigitHpCount': 0, 'survivedThreeImmobilizesInFight': 0, 'takedownOnFirstTurret': 0, 'takedowns': 8, 'takedownsAfterGainingLevelAdvantage': 0, 'takedownsBeforeJungleMinionSpawn': 0, 'takedownsFirstXMinutes': 7, 'takedownsInAlcove': 0, 'takedownsInEnemyFountain': 0, 'teamBaronKills': 0, 'teamDamagePercentage': 0.2712957628933218, 'teamElderDragonKills': 0, 'teamRiftHeraldKills': 0, 'tookLargeDamageSurvived': 0, 'turretPlatesTaken': 0, 'turretTakedowns': 0, 'turretsTakenWithRiftHerald': 0, 'twentyMinionsIn3SecondsCount': 0, 'twoWardsOneSweeperCount': 0, 'unseenRecalls': 0, 'visionScoreAdvantageLaneOpponent': -0.22734612226486206, 'visionScorePerMinute': 0.37926629243494, 'voidMonsterKill': 0, 'wardTakedowns': 2, 'wardTakedownsBefore20M': 2, 'wardsGuarded': 0}, 'champExperience': 7221, 'champLevel': 10, 'championId': 56, 'championName': 'Nocturne', 'championTransform': 0, 'commandPings': 0, 'consumablesPurchased': 1, 'damageDealtToBuildings': 0, 'damageDealtToObjectives': 14106, 'damageDealtToTurrets': 0, 'damageSelfMitigated': 11232, 'dangerPings': 0, 'deaths': 3, 'detectorWardsPlaced': 0, 'doubleKills': 0, 'dragonKills': 2, 'eligibleForProgression': True, 'enemyMissingPings': 0, 'enemyVisionPings': 0, 'firstBloodAssist': False, 'firstBloodKill': False, 'firstTowerAssist': False, 'firstTowerKill': False, 'gameEndedInEarlySurrender': False, 'gameEndedInSurrender': True, 'getBackPings': 0, 'goldEarned': 6626, 'goldSpent': 6000, 'holdPings': 0, 'individualPosition': 'JUNGLE', 'inhibitorKills': 0, 'inhibitorTakedowns': 0, 'inhibitorsLost': 0, 'item0': 6631, 'item1': 1101, 'item2': 3047, 'item3': 1028, 'item4': 1042, 'item5': 1036, 'item6': 3364, 'itemsPurchased': 13, 'killingSprees': 1, 'kills': 3, 'lane': 'NONE', 'largestCriticalStrike': 0, 'largestKillingSpree': 2, 'largestMultiKill': 1, 'longestTimeSpentLiving': 402, 'magicDamageDealt': 747, 'magicDamageDealtToChampions': 606, 'magicDamageTaken': 8659, 'missions': {'playerScore0': 0, 'playerScore1': 0, 'playerScore2': 0, 'playerScore3': 0, 'playerScore4': 0, 'playerScore5': 0, 'playerScore6': 0, 'playerScore7': 0, 'playerScore8': 0, 'playerScore9': 0, 'playerScore10': 0, 'playerScore11': 0}, 'needVisionPings': 0, 'neutralMinionsKilled': 76, 'nexusKills': 0, 'nexusLost': 1, 'nexusTakedowns': 0, 'objectivesStolen': 0, 'objectivesStolenAssists': 0, 'onMyWayPings': 16, 'participantId': 2, 'pentaKills': 0, 'perks': {'statPerks': {'defense': 5001, 'flex': 5008, 'offense': 5005}, 'styles': [{'description': 'primaryStyle', 'selections': [{'perk': 8010, 'var1': 288, 'var2': 0, 'var3': 0}, {'perk': 9111, 'var1': 462, 'var2': 160, 'var3': 0}, {'perk': 9104, 'var1': 13, 'var2': 10, 'var3': 0}, {'perk': 8299, 'var1': 298, 'var2': 0, 'var3': 0}], 'style': 8000}, {'description': 'subStyle', 'selections': [{'perk': 8138, 'var1': 9, 'var2': 0, 'var3': 0}, {'perk': 8106, 'var1': 4, 'var2': 26, 'var3': 0}], 'style': 8100}]}, 'physicalDamageDealt': 82633, 'physicalDamageDealtToChampions': 10792, 'physicalDamageTaken': 12952, 'placement': 0, 'playerAugment1': 0, 'playerAugment2': 0, 'playerAugment3': 0, 'playerAugment4': 0, 'playerAugment5': 0, 'playerAugment6': 0, 'playerSubteamId': 0, 'profileIcon': 29, 'pushPings': 0, 'puuid': 'T5DeJs65YarvCu_28sOUGmS_AY_wlxk-CZmgqrcMauLYkQKjXkXfSMHn469kOq3VB4q1KRxv-u7taw', 'quadraKills': 0, 'retreatPings': 4, 'riotIdGameName': 'Schmeuser', 'riotIdTagline': '0000', 'role': 'SUPPORT', 'sightWardsBoughtInGame': 0, 'spell1Casts': 76, 'spell2Casts': 11, 'spell3Casts': 12, 'spell4Casts': 7, 'subteamPlacement': 0, 'summoner1Casts': 3, 'summoner1Id': 4, 'summoner2Casts': 11, 'summoner2Id': 11, 'summonerId': '7Y2RA067B4HuzuPPqmOVSLPdCplqefAUa7oYwJgnSr8viPT4qbKUzDMR7w', 'summonerLevel': 22, 'summonerName': '', 'teamEarlySurrendered': False, 'teamId': 100, 'teamPosition': 'JUNGLE', 'timeCCingOthers': 75, 'timePlayed': 1182, 'totalAllyJungleMinionsKilled': 59, 'totalDamageDealt': 109051, 'totalDamageDealtToChampions': 11971, 'totalDamageShieldedOnTeammates': 0, 'totalDamageTaken': 22057, 'totalEnemyJungleMinionsKilled': 0, 'totalHeal': 11215, 'totalHealsOnTeammates': 0, 'totalMinionsKilled': 26, 'totalTimeCCDealt': 363, 'totalTimeSpentDead': 39, 'totalUnitsHealed': 1, 'tripleKills': 0, 'trueDamageDealt': 25670, 'trueDamageDealtToChampions': 572, 'trueDamageTaken': 446, 'turretKills': 0, 'turretTakedowns': 0, 'turretsLost': 5, 'unrealKills': 0, 'visionClearedPings': 0, 'visionScore': 7, 'visionWardsBoughtInGame': 0, 'wardsKilled': 2, 'wardsPlaced': 0, 'win': False}, {'allInPings': 0, 'assistMePings': 4, 'assists': 2, 'baronKills': 0, 'basicPings': 0, 'bountyLevel': 3, 'challenges': {'12AssistStreakCount': 0, 'HealFromMapSources': 372, 'InfernalScalePickup': 0, 'SWARM_DefeatAatrox': 0, 'SWARM_DefeatBriar': 0, 'SWARM_DefeatMiniBosses': 0, 'SWARM_EvolveWeapon': 0, 'SWARM_Have3Passives': 0, 'SWARM_KillEnemy': 0, 'SWARM_PickupGold': 0, 'SWARM_ReachLevel50': 0, 'SWARM_Survive15Min': 0, 'SWARM_WinWith5EvolvedWeapons': 0, 'abilityUses': 105, 'acesBefore15Minutes': 0, 'alliedJungleMonsterKills': 0, 'baronTakedowns': 0, 'blastConeOppositeOpponentCount': 0, 'bountyGold': 0, 'buffsStolen': 0, 'completeSupportQuestInTime': 0, 'controlWardsPlaced': 1, 'damagePerMinute': 532.1993626565711, 'damageTakenOnTeamPercentage': 0.3132625491128268, 'dancedWithRiftHerald': 0, 'deathsByEnemyChamps': 3, 'dodgeSkillShotsSmallWindow': 0, 'doubleAces': 0, 'dragonTakedowns': 0, 'earlyLaningPhaseGoldExpAdvantage': 0, 'effectiveHealAndShielding': 0, 'elderDragonKillsWithOpposingSoul': 0, 'elderDragonMultikills': 0, 'enemyChampionImmobilizations': 0, 'enemyJungleMonsterKills': 0, 'epicMonsterKillsNearEnemyJungler': 0, 'epicMonsterKillsWithin30SecondsOfSpawn': 0, 'epicMonsterSteals': 0, 'epicMonsterStolenWithoutSmite': 0, 'firstTurretKilled': 0, 'fistBumpParticipation': 0, 'flawlessAces': 0, 'fullTeamTakedown': 0, 'gameLength': 1182.5464899840001, 'getTakedownsInAllLanesEarlyJungleAsLaner': 0, 'goldPerMinute': 355.5940652088566, 'hadAfkTeammate': 1, 'hadOpenNexus': 0, 'immobilizeAndKillWithAlly': 0, 'initialBuffCount': 0, 'initialCrabCount': 0, 'jungleCsBefore10Minutes': 0, 'junglerTakedownsNearDamagedEpicMonster': 0, 'kTurretsDestroyedBeforePlatesFall': 0, 'kda': 1.6666666666666667, 'killAfterHiddenWithAlly': 0, 'killParticipation': 0.4166666666666667, 'killedChampTookFullTeamDamageSurvived': 0, 'killingSprees': 0, 'killsNearEnemyTurret': 2, 'killsOnOtherLanesEarlyJungleAsLaner': 0, 'killsOnRecentlyHealedByAramPack': 0, 'killsUnderOwnTurret': 0, 'killsWithHelpFromEpicMonster': 0, 'knockEnemyIntoTeamAndKill': 0, 'landSkillShotsEarlyGame': 0, 'laneMinionsFirst10Minutes': 72, 'laningPhaseGoldExpAdvantage': 0, 'legendaryCount': 0, 'legendaryItemUsed': [3074], 'lostAnInhibitor': 0, 'maxCsAdvantageOnLaneOpponent': 32.19999998807907, 'maxKillDeficit': 0, 'maxLevelLeadLaneOpponent': 2, 'mejaisFullStackInTime': 0, 'moreEnemyJungleThanOpponent': 0, 'multiKillOneSpell': 0, 'multiTurretRiftHeraldCount': 0, 'multikills': 0, 'multikillsAfterAggressiveFlash': 0, 'outerTurretExecutesBefore10Minutes': 0, 'outnumberedKills': 0, 'outnumberedNexusKill': 0, 'perfectDragonSoulsTaken': 0, 'perfectGame': 0, 'pickKillWithAlly': 4, 'playedChampSelectPosition': 1, 'poroExplosions': 0, 'quickCleanse': 0, 'quickFirstTurret': 0, 'quickSoloKills': 0, 'riftHeraldTakedowns': 0, 'saveAllyFromDeath': 0, 'scuttleCrabKills': 0, 'skillshotsDodged': 9, 'skillshotsHit': 0, 'snowballsHit': 0, 'soloBaronKills': 0, 'soloKills': 1, 'stealthWardsPlaced': 4, 'survivedSingleDigitHpCount': 0, 'survivedThreeImmobilizesInFight': 4, 'takedownOnFirstTurret': 0, 'takedowns': 5, 'takedownsAfterGainingLevelAdvantage': 0, 'takedownsBeforeJungleMinionSpawn': 0, 'takedownsFirstXMinutes': 5, 'takedownsInAlcove': 0, 'takedownsInEnemyFountain': 0, 'teamBaronKills': 0, 'teamDamagePercentage': 0.23771279420147712, 'teamElderDragonKills': 0, 'teamRiftHeraldKills': 0, 'tookLargeDamageSurvived': 0, 'turretPlatesTaken': 2, 'turretTakedowns': 0, 'turretsTakenWithRiftHerald': 0, 'twentyMinionsIn3SecondsCount': 0, 'twoWardsOneSweeperCount': 0, 'unseenRecalls': 0, 'visionScoreAdvantageLaneOpponent': -0.016172587871551514, 'visionScorePerMinute': 0.5031271915670108, 'voidMonsterKill': 0, 'wardTakedowns': 0, 'wardTakedownsBefore20M': 0, 'wardsGuarded': 1}, 'champExperience': 9603, 'champLevel': 12, 'championId': 23, 'championName': 'Tryndamere', 'championTransform': 0, 'commandPings': 9, 'consumablesPurchased': 3, 'damageDealtToBuildings': 1486, 'damageDealtToObjectives': 1486, 'damageDealtToTurrets': 1486, 'damageSelfMitigated': 19342, 'dangerPings': 0, 'deaths': 3, 'detectorWardsPlaced': 1, 'doubleKills': 0, 'dragonKills': 0, 'eligibleForProgression': True, 'enemyMissingPings': 2, 'enemyVisionPings': 0, 'firstBloodAssist': False, 'firstBloodKill': False, 'firstTowerAssist': False, 'firstTowerKill': False, 'gameEndedInEarlySurrender': False, 'gameEndedInSurrender': True, 'getBackPings': 6, 'goldEarned': 7008, 'goldSpent': 6425, 'holdPings': 0, 'individualPosition': 'MIDDLE', 'inhibitorKills': 0, 'inhibitorTakedowns': 0, 'inhibitorsLost': 0, 'item0': 1054, 'item1': 3006, 'item2': 3086, 'item3': 1042, 'item4': 3074, 'item5': 0, 'item6': 3340, 'itemsPurchased': 15, 'killingSprees': 0, 'kills': 3, 'lane': 'NONE', 'largestCriticalStrike': 392, 'largestKillingSpree': 0, 'largestMultiKill': 1, 'longestTimeSpentLiving': 449, 'magicDamageDealt': 277, 'magicDamageDealtToChampions': 277, 'magicDamageTaken': 6596, 'missions': {'playerScore0': 0, 'playerScore1': 0, 'playerScore2': 0, 'playerScore3': 0, 'playerScore4': 0, 'playerScore5': 0, 'playerScore6': 0, 'playerScore7': 0, 'playerScore8': 0, 'playerScore9': 0, 'playerScore10': 0, 'playerScore11': 0}, 'needVisionPings': 0, 'neutralMinionsKilled': 0, 'nexusKills': 0, 'nexusLost': 1, 'nexusTakedowns': 0, 'objectivesStolen': 0, 'objectivesStolenAssists': 0, 'onMyWayPings': 6, 'participantId': 3, 'pentaKills': 0, 'perks': {'statPerks': {'defense': 5001, 'flex': 5008, 'offense': 5005}, 'styles': [{'description': 'primaryStyle', 'selections': [{'perk': 8214, 'var1': 873, 'var2': 0, 'var3': 0}, {'perk': 8224, 'var1': 606, 'var2': 0, 'var3': 0}, {'perk': 8210, 'var1': 0, 'var2': 0, 'var3': 0}, {'perk': 8237, 'var1': 277, 'var2': 0, 'var3': 0}], 'style': 8200}, {'description': 'subStyle', 'selections': [{'perk': 8401, 'var1': 146, 'var2': 0, 'var3': 0}, {'perk': 8473, 'var1': 628, 'var2': 0, 'var3': 0}], 'style': 8400}]}, 'physicalDamageDealt': 86438, 'physicalDamageDealtToChampions': 9977, 'physicalDamageTaken': 13691, 'placement': 0, 'playerAugment1': 0, 'playerAugment2': 0, 'playerAugment3': 0, 'playerAugment4': 0, 'playerAugment5': 0, 'playerAugment6': 0, 'playerSubteamId': 0, 'profileIcon': 5336, 'pushPings': 0, 'puuid': '0jVjtLcA9f0rOcmWL79yW-mWuYvOauTd8qkff7a0S9AU1cvb3vpw83rK8tufrVnIJp7vRbh6GlCiJQ', 'quadraKills': 0, 'retreatPings': 0, 'riotIdGameName': 'SuperChaussette', 'riotIdTagline': 'Uwu', 'role': 'DUO', 'sightWardsBoughtInGame': 0, 'spell1Casts': 24, 'spell2Casts': 16, 'spell3Casts': 60, 'spell4Casts': 5, 'subteamPlacement': 0, 'summoner1Casts': 3, 'summoner1Id': 12, 'summoner2Casts': 3, 'summoner2Id': 4, 'summonerId': 'IfGqEuhusymqxR2brA3g1ZQM-Zrs-zc7h6FNMFbUxwX6j0jNDvDNnhasYA', 'summonerLevel': 26, 'summonerName': '', 'teamEarlySurrendered': False, 'teamId': 100, 'teamPosition': 'MIDDLE', 'timeCCingOthers': 9, 'timePlayed': 1182, 'totalAllyJungleMinionsKilled': 0, 'totalDamageDealt': 92664, 'totalDamageDealtToChampions': 10489, 'totalDamageShieldedOnTeammates': 0, 'totalDamageTaken': 20755, 'totalEnemyJungleMinionsKilled': 0, 'totalHeal': 9674, 'totalHealsOnTeammates': 0, 'totalMinionsKilled': 147, 'totalTimeCCDealt': 81, 'totalTimeSpentDead': 82, 'totalUnitsHealed': 1, 'tripleKills': 0, 'trueDamageDealt': 5948, 'trueDamageDealtToChampions': 234, 'trueDamageTaken': 467, 'turretKills': 0, 'turretTakedowns': 0, 'turretsLost': 5, 'unrealKills': 0, 'visionClearedPings': 0, 'visionScore': 9, 'visionWardsBoughtInGame': 1, 'wardsKilled': 0, 'wardsPlaced': 5, 'win': False}, {'allInPings': 0, 'assistMePings': 0, 'assists': 2, 'baronKills': 0, 'basicPings': 0, 'bountyLevel': 6, 'challenges': {'12AssistStreakCount': 0, 'HealFromMapSources': 0, 'InfernalScalePickup': 0, 'SWARM_DefeatAatrox': 0, 'SWARM_DefeatBriar': 0, 'SWARM_DefeatMiniBosses': 0, 'SWARM_EvolveWeapon': 0, 'SWARM_Have3Passives': 0, 'SWARM_KillEnemy': 0, 'SWARM_PickupGold': 0, 'SWARM_ReachLevel50': 0, 'SWARM_Survive15Min': 0, 'SWARM_WinWith5EvolvedWeapons': 0, 'abilityUses': 99, 'acesBefore15Minutes': 0, 'alliedJungleMonsterKills': 0, 'baronTakedowns': 0, 'blastConeOppositeOpponentCount': 0, 'bountyGold': 0, 'buffsStolen': 0, 'completeSupportQuestInTime': 0, 'controlWardTimeCoverageInRiverOrEnemyHalf': 0.6474163293041939, 'controlWardsPlaced': 2, 'damagePerMinute': 726.6515156037344, 'damageTakenOnTeamPercentage': 0.16246515499981776, 'dancedWithRiftHerald': 0, 'deathsByEnemyChamps': 1, 'dodgeSkillShotsSmallWindow': 0, 'doubleAces': 0, 'dragonTakedowns': 1, 'earliestDragonTakedown': 854.0261241640001, 'earlyLaningPhaseGoldExpAdvantage': 0, 'effectiveHealAndShielding': 0, 'elderDragonKillsWithOpposingSoul': 0, 'elderDragonMultikills': 0, 'enemyChampionImmobilizations': 6, 'enemyJungleMonsterKills': 0, 'epicMonsterKillsNearEnemyJungler': 0, 'epicMonsterKillsWithin30SecondsOfSpawn': 0, 'epicMonsterSteals': 0, 'epicMonsterStolenWithoutSmite': 0, 'firstTurretKilled': 0, 'fistBumpParticipation': 0, 'flawlessAces': 0, 'fullTeamTakedown': 0, 'gameLength': 1182.5464899840001, 'getTakedownsInAllLanesEarlyJungleAsLaner': 0, 'goldPerMinute': 436.96024228886034, 'hadAfkTeammate': 1, 'hadOpenNexus': 0, 'immobilizeAndKillWithAlly': 2, 'initialBuffCount': 0, 'initialCrabCount': 0, 'jungleCsBefore10Minutes': 0, 'junglerTakedownsNearDamagedEpicMonster': 0, 'kTurretsDestroyedBeforePlatesFall': 0, 'kda': 8, 'killAfterHiddenWithAlly': 2, 'killParticipation': 0.6666666666666666, 'killedChampTookFullTeamDamageSurvived': 0, 'killingSprees': 1, 'killsNearEnemyTurret': 2, 'killsOnOtherLanesEarlyJungleAsLaner': 0, 'killsOnRecentlyHealedByAramPack': 0, 'killsUnderOwnTurret': 0, 'killsWithHelpFromEpicMonster': 0, 'knockEnemyIntoTeamAndKill': 0, 'landSkillShotsEarlyGame': 7, 'laneMinionsFirst10Minutes': 54, 'laningPhaseGoldExpAdvantage': 0, 'legendaryCount': 0, 'legendaryItemUsed': [6676, 3094], 'lostAnInhibitor': 0, 'maxCsAdvantageOnLaneOpponent': 15, 'maxKillDeficit': 0, 'maxLevelLeadLaneOpponent': 1, 'mejaisFullStackInTime': 0, 'moreEnemyJungleThanOpponent': 0, 'multiKillOneSpell': 0, 'multiTurretRiftHeraldCount': 0, 'multikills': 0, 'multikillsAfterAggressiveFlash': 0, 'outerTurretExecutesBefore10Minutes': 0, 'outnumberedKills': 0, 'outnumberedNexusKill': 0, 'perfectDragonSoulsTaken': 0, 'perfectGame': 0, 'pickKillWithAlly': 7, 'playedChampSelectPosition': 1, 'poroExplosions': 0, 'quickCleanse': 0, 'quickFirstTurret': 0, 'quickSoloKills': 0, 'riftHeraldTakedowns': 0, 'saveAllyFromDeath': 0, 'scuttleCrabKills': 0, 'skillshotsDodged': 16, 'skillshotsHit': 28, 'snowballsHit': 0, 'soloBaronKills': 0, 'soloKills': 1, 'soloTurretsLategame': 1, 'stealthWardsPlaced': 5, 'survivedSingleDigitHpCount': 0, 'survivedThreeImmobilizesInFight': 0, 'takedownOnFirstTurret': 0, 'takedowns': 8, 'takedownsAfterGainingLevelAdvantage': 0, 'takedownsBeforeJungleMinionSpawn': 0, 'takedownsFirstXMinutes': 7, 'takedownsInAlcove': 0, 'takedownsInEnemyFountain': 0, 'teamBaronKills': 0, 'teamDamagePercentage': 0.32456702188192527, 'teamElderDragonKills': 0, 'teamRiftHeraldKills': 0, 'tookLargeDamageSurvived': 0, 'turretPlatesTaken': 4, 'turretTakedowns': 1, 'turretsTakenWithRiftHerald': 0, 'twentyMinionsIn3SecondsCount': 0, 'twoWardsOneSweeperCount': 0, 'unseenRecalls': 0, 'visionScoreAdvantageLaneOpponent': 0.08138918876647949, 'visionScorePerMinute': 0.7565639881398252, 'voidMonsterKill': 0, 'wardTakedowns': 2, 'wardTakedownsBefore20M': 2, 'wardsGuarded': 0}, 'champExperience': 7154, 'champLevel': 10, 'championId': 51, 'championName': 'Caitlyn', 'championTransform': 0, 'commandPings': 0, 'consumablesPurchased': 3, 'damageDealtToBuildings': 3619, 'damageDealtToObjectives': 4178, 'damageDealtToTurrets': 3619, 'damageSelfMitigated': 6090, 'dangerPings': 0, 'deaths': 1, 'detectorWardsPlaced': 2, 'doubleKills': 0, 'dragonKills': 0, 'eligibleForProgression': True, 'enemyMissingPings': 0, 'enemyVisionPings': 0, 'firstBloodAssist': False, 'firstBloodKill': True, 'firstTowerAssist': False, 'firstTowerKill': False, 'gameEndedInEarlySurrender': False, 'gameEndedInSurrender': True, 'getBackPings': 4, 'goldEarned': 8612, 'goldSpent': 8275, 'holdPings': 0, 'individualPosition': 'BOTTOM', 'inhibitorKills': 0, 'inhibitorTakedowns': 0, 'inhibitorsLost': 0, 'item0': 1055, 'item1': 6676, 'item2': 3006, 'item3': 3094, 'item4': 1037, 'item5': 0, 'item6': 3340, 'itemsPurchased': 14, 'killingSprees': 1, 'kills': 6, 'lane': 'NONE', 'largestCriticalStrike': 710, 'largestKillingSpree': 6, 'largestMultiKill': 1, 'longestTimeSpentLiving': 1169, 'magicDamageDealt': 720, 'magicDamageDealtToChampions': 520, 'magicDamageTaken': 2461, 'missions': {'playerScore0': 0, 'playerScore1': 0, 'playerScore2': 0, 'playerScore3': 0, 'playerScore4': 0, 'playerScore5': 0, 'playerScore6': 0, 'playerScore7': 0, 'playerScore8': 0, 'playerScore9': 0, 'playerScore10': 0, 'playerScore11': 0}, 'needVisionPings': 0, 'neutralMinionsKilled': 0, 'nexusKills': 0, 'nexusLost': 1, 'nexusTakedowns': 0, 'objectivesStolen': 0, 'objectivesStolenAssists': 0, 'onMyWayPings': 2, 'participantId': 4, 'pentaKills': 0, 'perks': {'statPerks': {'defense': 5001, 'flex': 5008, 'offense': 5005}, 'styles': [{'description': 'primaryStyle', 'selections': [{'perk': 8021, 'var1': 838, 'var2': 0, 'var3': 0}, {'perk': 8009, 'var1': 904, 'var2': 0, 'var3': 0}, {'perk': 9103, 'var1': 0, 'var2': 0, 'var3': 0}, {'perk': 8014, 'var1': 260, 'var2': 0, 'var3': 0}], 'style': 8000}, {'description': 'subStyle', 'selections': [{'perk': 8233, 'var1': 11, 'var2': 40, 'var3': 0}, {'perk': 8236, 'var1': 4, 'var2': 0, 'var3': 0}], 'style': 8200}]}, 'physicalDamageDealt': 79876, 'physicalDamageDealtToChampions': 13643, 'physicalDamageTaken': 8272, 'placement': 0, 'playerAugment1': 0, 'playerAugment2': 0, 'playerAugment3': 0, 'playerAugment4': 0, 'playerAugment5': 0, 'playerAugment6': 0, 'playerSubteamId': 0, 'profileIcon': 6468, 'pushPings': 0, 'puuid': 'qSwjazdedEO4D7FyDgvJJO2amlGvLZ_ux2Lo5Oma-_bXmfppjiw8wVWdyQnM8Lei-hCulQkGLjj9sg', 'quadraKills': 0, 'retreatPings': 0, 'riotIdGameName': 'Lemon Tea', 'riotIdTagline': 'Pasta', 'role': 'DUO', 'sightWardsBoughtInGame': 0, 'spell1Casts': 43, 'spell2Casts': 35, 'spell3Casts': 18, 'spell4Casts': 3, 'subteamPlacement': 0, 'summoner1Casts': 3, 'summoner1Id': 4, 'summoner2Casts': 1, 'summoner2Id': 21, 'summonerId': 'cA162DCorbXP3hoR3c0HNVf5IEjKcNBq9WtshMCrMgN7X0c', 'summonerLevel': 499, 'summonerName': 'The American Guy', 'teamEarlySurrendered': False, 'teamId': 100, 'teamPosition': 'BOTTOM', 'timeCCingOthers': 10, 'timePlayed': 1182, 'totalAllyJungleMinionsKilled': 0, 'totalDamageDealt': 82234, 'totalDamageDealtToChampions': 14321, 'totalDamageShieldedOnTeammates': 0, 'totalDamageTaken': 10764, 'totalEnemyJungleMinionsKilled': 0, 'totalHeal': 4402, 'totalHealsOnTeammates': 0, 'totalMinionsKilled': 145, 'totalTimeCCDealt': 50, 'totalTimeSpentDead': 0, 'totalUnitsHealed': 1, 'tripleKills': 0, 'trueDamageDealt': 1636, 'trueDamageDealtToChampions': 156, 'trueDamageTaken': 30, 'turretKills': 1, 'turretTakedowns': 1, 'turretsLost': 5, 'unrealKills': 0, 'visionClearedPings': 0, 'visionScore': 14, 'visionWardsBoughtInGame': 2, 'wardsKilled': 2, 'wardsPlaced': 7, 'win': False}, {'allInPings': 0, 'assistMePings': 10, 'assists': 5, 'baronKills': 0, 'basicPings': 0, 'bountyLevel': 0, 'challenges': {'12AssistStreakCount': 0, 'HealFromMapSources': 64.50499725341797, 'InfernalScalePickup': 0, 'SWARM_DefeatAatrox': 0, 'SWARM_DefeatBriar': 0, 'SWARM_DefeatMiniBosses': 0, 'SWARM_EvolveWeapon': 0, 'SWARM_Have3Passives': 0, 'SWARM_KillEnemy': 0, 'SWARM_PickupGold': 0, 'SWARM_ReachLevel50': 0, 'SWARM_Survive15Min': 0, 'SWARM_WinWith5EvolvedWeapons': 0, 'abilityUses': 69, 'acesBefore15Minutes': 0, 'alliedJungleMonsterKills': 0, 'baronTakedowns': 0, 'blastConeOppositeOpponentCount': 0, 'bountyGold': 0, 'buffsStolen': 0, 'completeSupportQuestInTime': 0, 'controlWardTimeCoverageInRiverOrEnemyHalf': 0.49878386071314673, 'controlWardsPlaced': 4, 'damagePerMinute': 282.53461922680566, 'damageTakenOnTeamPercentage': 0.15159236786434607, 'dancedWithRiftHerald': 0, 'deathsByEnemyChamps': 1, 'dodgeSkillShotsSmallWindow': 0, 'doubleAces': 0, 'dragonTakedowns': 1, 'earliestDragonTakedown': 854.0261241640001, 'earlyLaningPhaseGoldExpAdvantage': 0, 'effectiveHealAndShielding': 1738.1268310546875, 'elderDragonKillsWithOpposingSoul': 0, 'elderDragonMultikills': 0, 'enemyChampionImmobilizations': 36, 'enemyJungleMonsterKills': 0, 'epicMonsterKillsNearEnemyJungler': 0, 'epicMonsterKillsWithin30SecondsOfSpawn': 0, 'epicMonsterSteals': 0, 'epicMonsterStolenWithoutSmite': 0, 'firstTurretKilled': 0, 'fistBumpParticipation': 0, 'flawlessAces': 0, 'fullTeamTakedown': 0, 'gameLength': 1182.5464899840001, 'getTakedownsInAllLanesEarlyJungleAsLaner': 0, 'goldPerMinute': 242.66191356629673, 'hadAfkTeammate': 1, 'hadOpenNexus': 0, 'immobilizeAndKillWithAlly': 4, 'initialBuffCount': 0, 'initialCrabCount': 0, 'jungleCsBefore10Minutes': 0, 'junglerTakedownsNearDamagedEpicMonster': 0, 'kTurretsDestroyedBeforePlatesFall': 0, 'kda': 5, 'killAfterHiddenWithAlly': 2, 'killParticipation': 0.4166666666666667, 'killedChampTookFullTeamDamageSurvived': 0, 'killingSprees': 0, 'killsNearEnemyTurret': 0, 'killsOnOtherLanesEarlyJungleAsLaner': 0, 'killsOnRecentlyHealedByAramPack': 0, 'killsUnderOwnTurret': 0, 'killsWithHelpFromEpicMonster': 0, 'knockEnemyIntoTeamAndKill': 2, 'landSkillShotsEarlyGame': 3, 'laneMinionsFirst10Minutes': 18, 'laningPhaseGoldExpAdvantage': 0, 'legendaryCount': 0, 'legendaryItemUsed': [3876, 3190], 'lostAnInhibitor': 0, 'maxCsAdvantageOnLaneOpponent': 8, 'maxKillDeficit': 0, 'maxLevelLeadLaneOpponent': 1, 'mejaisFullStackInTime': 0, 'moreEnemyJungleThanOpponent': 0, 'multiKillOneSpell': 0, 'multiTurretRiftHeraldCount': 0, 'multikills': 0, 'multikillsAfterAggressiveFlash': 0, 'outerTurretExecutesBefore10Minutes': 0, 'outnumberedKills': 0, 'outnumberedNexusKill': 0, 'perfectDragonSoulsTaken': 0, 'perfectGame': 0, 'pickKillWithAlly': 5, 'playedChampSelectPosition': 1, 'poroExplosions': 0, 'quickCleanse': 0, 'quickFirstTurret': 0, 'quickSoloKills': 0, 'riftHeraldTakedowns': 0, 'saveAllyFromDeath': 0, 'scuttleCrabKills': 0, 'skillshotsDodged': 11, 'skillshotsHit': 14, 'snowballsHit': 0, 'soloBaronKills': 0, 'soloKills': 0, 'stealthWardsPlaced': 10, 'survivedSingleDigitHpCount': 0, 'survivedThreeImmobilizesInFight': 0, 'takedownOnFirstTurret': 0, 'takedowns': 5, 'takedownsAfterGainingLevelAdvantage': 0, 'takedownsBeforeJungleMinionSpawn': 0, 'takedownsFirstXMinutes': 5, 'takedownsInAlcove': 0, 'takedownsInEnemyFountain': 0, 'teamBaronKills': 0, 'teamDamagePercentage': 0.12619724582119451, 'teamElderDragonKills': 0, 'teamRiftHeraldKills': 0, 'tookLargeDamageSurvived': 0, 'turretPlatesTaken': 4, 'turretTakedowns': 1, 'turretsTakenWithRiftHerald': 0, 'twentyMinionsIn3SecondsCount': 0, 'twoWardsOneSweeperCount': 1, 'unseenRecalls': 0, 'visionScoreAdvantageLaneOpponent': 0.061025261878967285, 'visionScorePerMinute': 1.8576544687356586, 'voidMonsterKill': 0, 'wardTakedowns': 3, 'wardTakedownsBefore20M': 3, 'wardsGuarded': 0}, 'champExperience': 5272, 'champLevel': 9, 'championId': 412, 'championName': 'Thresh', 'championTransform': 0, 'commandPings': 9, 'consumablesPurchased': 6, 'damageDealtToBuildings': 291, 'damageDealtToObjectives': 415, 'damageDealtToTurrets': 291, 'damageSelfMitigated': 8515, 'dangerPings': 0, 'deaths': 1, 'detectorWardsPlaced': 4, 'doubleKills': 0, 'dragonKills': 0, 'eligibleForProgression': True, 'enemyMissingPings': 1, 'enemyVisionPings': 3, 'firstBloodAssist': True, 'firstBloodKill': False, 'firstTowerAssist': False, 'firstTowerKill': False, 'gameEndedInEarlySurrender': False, 'gameEndedInSurrender': True, 'getBackPings': 9, 'goldEarned': 4782, 'goldSpent': 4000, 'holdPings': 0, 'individualPosition': 'UTILITY', 'inhibitorKills': 0, 'inhibitorTakedowns': 0, 'inhibitorsLost': 0, 'item0': 3876, 'item1': 3009, 'item2': 3190, 'item3': 0, 'item4': 0, 'item5': 0, 'item6': 3364, 'itemsPurchased': 15, 'killingSprees': 0, 'kills': 0, 'lane': 'NONE', 'largestCriticalStrike': 0, 'largestKillingSpree': 0, 'largestMultiKill': 0, 'longestTimeSpentLiving': 1095, 'magicDamageDealt': 7728, 'magicDamageDealtToChampions': 4108, 'magicDamageTaken': 2506, 'missions': {'playerScore0': 0, 'playerScore1': 0, 'playerScore2': 0, 'playerScore3': 0, 'playerScore4': 0, 'playerScore5': 0, 'playerScore6': 0, 'playerScore7': 0, 'playerScore8': 0, 'playerScore9': 0, 'playerScore10': 0, 'playerScore11': 0}, 'needVisionPings': 1, 'neutralMinionsKilled': 0, 'nexusKills': 0, 'nexusLost': 1, 'nexusTakedowns': 0, 'objectivesStolen': 0, 'objectivesStolenAssists': 0, 'onMyWayPings': 23, 'participantId': 5, 'pentaKills': 0, 'perks': {'statPerks': {'defense': 5001, 'flex': 5001, 'offense': 5007}, 'styles': [{'description': 'primaryStyle', 'selections': [{'perk': 8465, 'var1': 1071, 'var2': 0, 'var3': 0}, {'perk': 8463, 'var1': 270, 'var2': 0, 'var3': 0}, {'perk': 8473, 'var1': 384, 'var2': 0, 'var3': 0}, {'perk': 8242, 'var1': 38, 'var2': 0, 'var3': 0}], 'style': 8400}, {'description': 'subStyle', 'selections': [{'perk': 8345, 'var1': 3, 'var2': 0, 'var3': 146}, {'perk': 8347, 'var1': 0, 'var2': 0, 'var3': 0}], 'style': 8300}]}, 'physicalDamageDealt': 5411, 'physicalDamageDealtToChampions': 983, 'physicalDamageTaken': 7537, 'placement': 0, 'playerAugment1': 0, 'playerAugment2': 0, 'playerAugment3': 0, 'playerAugment4': 0, 'playerAugment5': 0, 'playerAugment6': 0, 'playerSubteamId': 0, 'profileIcon': 7, 'pushPings': 0, 'puuid': 'mepS4drpmwoNTCuQpEehzar_GzEWbSD2SKzbmjgmF6Q1pOMeumKCIEhcJUix-xovP5latNMuJ3K5Qw', 'quadraKills': 0, 'retreatPings': 2, 'riotIdGameName': 'Warya', 'riotIdTagline': 'Shush', 'role': 'SUPPORT', 'sightWardsBoughtInGame': 0, 'spell1Casts': 40, 'spell2Casts': 15, 'spell3Casts': 10, 'spell4Casts': 4, 'subteamPlacement': 0, 'summoner1Casts': 5, 'summoner1Id': 14, 'summoner2Casts': 4, 'summoner2Id': 4, 'summonerId': 'LtAUrpl-OdVLRc5_3Sv_d3nc1fIioxdjiOTqj20pmuEqHS9Lj9L4C5Gbdw', 'summonerLevel': 81, 'summonerName': 'Dòn Drapér', 'teamEarlySurrendered': False, 'teamId': 100, 'teamPosition': 'UTILITY', 'timeCCingOthers': 25, 'timePlayed': 1182, 'totalAllyJungleMinionsKilled': 0, 'totalDamageDealt': 16396, 'totalDamageDealtToChampions': 5568, 'totalDamageShieldedOnTeammates': 1629, 'totalDamageTaken': 10043, 'totalEnemyJungleMinionsKilled': 0, 'totalHeal': 1281, 'totalHealsOnTeammates': 108, 'totalMinionsKilled': 26, 'totalTimeCCDealt': 52, 'totalTimeSpentDead': 28, 'totalUnitsHealed': 4, 'tripleKills': 0, 'trueDamageDealt': 3257, 'trueDamageDealtToChampions': 476, 'trueDamageTaken': 0, 'turretKills': 0, 'turretTakedowns': 1, 'turretsLost': 5, 'unrealKills': 0, 'visionClearedPings': 0, 'visionScore': 36, 'visionWardsBoughtInGame': 4, 'wardsKilled': 3, 'wardsPlaced': 14, 'win': False}, {'allInPings': 0, 'assistMePings': 0, 'assists': 2, 'baronKills': 0, 'basicPings': 0, 'bountyLevel': 4, 'challenges': {'12AssistStreakCount': 0, 'HealFromMapSources': 74.2122573852539, 'InfernalScalePickup': 0, 'SWARM_DefeatAatrox': 0, 'SWARM_DefeatBriar': 0, 'SWARM_DefeatMiniBosses': 0, 'SWARM_EvolveWeapon': 0, 'SWARM_Have3Passives': 0, 'SWARM_KillEnemy': 0, 'SWARM_PickupGold': 0, 'SWARM_ReachLevel50': 0, 'SWARM_Survive15Min': 0, 'SWARM_WinWith5EvolvedWeapons': 0, 'abilityUses': 222, 'acesBefore15Minutes': 0, 'alliedJungleMonsterKills': 0, 'baronTakedowns': 0, 'blastConeOppositeOpponentCount': 0, 'bountyGold': 20.750511169433594, 'buffsStolen': 0, 'completeSupportQuestInTime': 0, 'controlWardTimeCoverageInRiverOrEnemyHalf': 0.6510031910376869, 'controlWardsPlaced': 1, 'damagePerMinute': 758.2477892525662, 'damageTakenOnTeamPercentage': 0.2577481813552723, 'dancedWithRiftHerald': 0, 'deathsByEnemyChamps': 1, 'dodgeSkillShotsSmallWindow': 0, 'doubleAces': 0, 'dragonTakedowns': 0, 'earlyLaningPhaseGoldExpAdvantage': 1, 'effectiveHealAndShielding': 0, 'elderDragonKillsWithOpposingSoul': 0, 'elderDragonMultikills': 0, 'enemyChampionImmobilizations': 38, 'enemyJungleMonsterKills': 0, 'epicMonsterKillsNearEnemyJungler': 0, 'epicMonsterKillsWithin30SecondsOfSpawn': 0, 'epicMonsterSteals': 0, 'epicMonsterStolenWithoutSmite': 0, 'firstTurretKilled': 1, 'firstTurretKilledTime': 690.928634277, 'fistBumpParticipation': 0, 'flawlessAces': 0, 'fullTeamTakedown': 1, 'gameLength': 1182.5464899840001, 'getTakedownsInAllLanesEarlyJungleAsLaner': 0, 'goldPerMinute': 463.39041024291083, 'hadOpenNexus': 0, 'highestChampionDamage': 1, 'immobilizeAndKillWithAlly': 2, 'initialBuffCount': 0, 'initialCrabCount': 0, 'jungleCsBefore10Minutes': 0, 'junglerTakedownsNearDamagedEpicMonster': 0, 'kTurretsDestroyedBeforePlatesFall': 1, 'kda': 6, 'killAfterHiddenWithAlly': 1, 'killParticipation': 0.6, 'killedChampTookFullTeamDamageSurvived': 0, 'killingSprees': 1, 'killsNearEnemyTurret': 1, 'killsOnOtherLanesEarlyJungleAsLaner': 0, 'killsOnRecentlyHealedByAramPack': 0, 'killsUnderOwnTurret': 1, 'killsWithHelpFromEpicMonster': 0, 'knockEnemyIntoTeamAndKill': 5, 'landSkillShotsEarlyGame': 3, 'laneMinionsFirst10Minutes': 76, 'laningPhaseGoldExpAdvantage': 1, 'legendaryCount': 0, 'legendaryItemUsed': [6692, 6610], 'lostAnInhibitor': 0, 'maxCsAdvantageOnLaneOpponent': 115, 'maxKillDeficit': 6, 'maxLevelLeadLaneOpponent': 9, 'mejaisFullStackInTime': 0, 'moreEnemyJungleThanOpponent': 0, 'multiKillOneSpell': 0, 'multiTurretRiftHeraldCount': 0, 'multikills': 0, 'multikillsAfterAggressiveFlash': 0, 'outerTurretExecutesBefore10Minutes': 0, 'outnumberedKills': 1, 'outnumberedNexusKill': 0, 'perfectDragonSoulsTaken': 0, 'perfectGame': 0, 'pickKillWithAlly': 3, 'playedChampSelectPosition': 1, 'poroExplosions': 0, 'quickCleanse': 0, 'quickFirstTurret': 0, 'quickSoloKills': 0, 'riftHeraldTakedowns': 0, 'saveAllyFromDeath': 0, 'scuttleCrabKills': 1, 'skillshotsDodged': 5, 'skillshotsHit': 14, 'snowballsHit': 0, 'soloBaronKills': 0, 'soloKills': 3, 'stealthWardsPlaced': 2, 'survivedSingleDigitHpCount': 0, 'survivedThreeImmobilizesInFight': 7, 'takedownOnFirstTurret': 1, 'takedowns': 6, 'takedownsAfterGainingLevelAdvantage': 0, 'takedownsBeforeJungleMinionSpawn': 0, 'takedownsFirstXMinutes': 3, 'takedownsInAlcove': 0, 'takedownsInEnemyFountain': 0, 'teamBaronKills': 0, 'teamDamagePercentage': 0.31052169798106405, 'teamElderDragonKills': 0, 'teamRiftHeraldKills': 1, 'tookLargeDamageSurvived': 0, 'turretPlatesTaken': 5, 'turretTakedowns': 3, 'turretsTakenWithRiftHerald': 0, 'twentyMinionsIn3SecondsCount': 0, 'twoWardsOneSweeperCount': 0, 'unseenRecalls': 0, 'visionScoreAdvantageLaneOpponent': 7.4889326095581055, 'visionScorePerMinute': 0.6494634517587851, 'voidMonsterKill': 0, 'wardTakedowns': 1, 'wardTakedownsBefore20M': 1, 'wardsGuarded': 0}, 'champExperience': 10071, 'champLevel': 13, 'championId': 266, 'championName': 'Aatrox', 'championTransform': 0, 'commandPings': 1, 'consumablesPurchased': 2, 'damageDealtToBuildings': 5792, 'damageDealtToObjectives': 5792, 'damageDealtToTurrets': 5792, 'damageSelfMitigated': 16017, 'dangerPings': 0, 'deaths': 1, 'detectorWardsPlaced': 1, 'doubleKills': 0, 'dragonKills': 0, 'eligibleForProgression': True, 'enemyMissingPings': 1, 'enemyVisionPings': 0, 'firstBloodAssist': False, 'firstBloodKill': False, 'firstTowerAssist': False, 'firstTowerKill': True, 'gameEndedInEarlySurrender': False, 'gameEndedInSurrender': True, 'getBackPings': 1, 'goldEarned': 9133, 'goldSpent': 7775, 'holdPings': 0, 'individualPosition': 'TOP', 'inhibitorKills': 0, 'inhibitorTakedowns': 0, 'inhibitorsLost': 0, 'item0': 1054, 'item1': 6692, 'item2': 3047, 'item3': 6610, 'item4': 0, 'item5': 0, 'item6': 3340, 'itemsPurchased': 12, 'killingSprees': 1, 'kills': 4, 'lane': 'NONE', 'largestCriticalStrike': 359, 'largestKillingSpree': 3, 'largestMultiKill': 1, 'longestTimeSpentLiving': 895, 'magicDamageDealt': 3847, 'magicDamageDealtToChampions': 2210, 'magicDamageTaken': 2520, 'missions': {'playerScore0': 0, 'playerScore1': 0, 'playerScore2': 0, 'playerScore3': 0, 'playerScore4': 0, 'playerScore5': 0, 'playerScore6': 0, 'playerScore7': 0, 'playerScore8': 0, 'playerScore9': 0, 'playerScore10': 0, 'playerScore11': 0}, 'needVisionPings': 0, 'neutralMinionsKilled': 4, 'nexusKills': 0, 'nexusLost': 0, 'nexusTakedowns': 0, 'objectivesStolen': 0, 'objectivesStolenAssists': 0, 'onMyWayPings': 1, 'participantId': 6, 'pentaKills': 0, 'perks': {'statPerks': {'defense': 5001, 'flex': 5008, 'offense': 5005}, 'styles': [{'description': 'primaryStyle', 'selections': [{'perk': 8010, 'var1': 345, 'var2': 0, 'var3': 0}, {'perk': 9111, 'var1': 518, 'var2': 120, 'var3': 0}, {'perk': 9105, 'var1': 19, 'var2': 20, 'var3': 0}, {'perk': 8299, 'var1': 663, 'var2': 0, 'var3': 0}], 'style': 8000}, {'description': 'subStyle', 'selections': [{'perk': 8446, 'var1': 2161, 'var2': 0, 'var3': 0}, {'perk': 8473, 'var1': 550, 'var2': 0, 'var3': 0}], 'style': 8400}]}, 'physicalDamageDealt': 85397, 'physicalDamageDealtToChampions': 12734, 'physicalDamageTaken': 13518, 'placement': 0, 'playerAugment1': 0, 'playerAugment2': 0, 'playerAugment3': 0, 'playerAugment4': 0, 'playerAugment5': 0, 'playerAugment6': 0, 'playerSubteamId': 0, 'profileIcon': 6386, 'pushPings': 0, 'puuid': 'aOwFuOQ02d05Ts7HmJOcO7CNuZfqURmmNC7bLPnNs2b-mSw21tDp66PQ0i5bNrOdl5hGIGnaDDOxiQ', 'quadraKills': 0, 'retreatPings': 0, 'riotIdGameName': 'boafzig', 'riotIdTagline': '6168', 'role': 'SUPPORT', 'sightWardsBoughtInGame': 0, 'spell1Casts': 132, 'spell2Casts': 22, 'spell3Casts': 64, 'spell4Casts': 4, 'subteamPlacement': 0, 'summoner1Casts': 3, 'summoner1Id': 4, 'summoner2Casts': 2, 'summoner2Id': 12, 'summonerId': 'rb1ILGAbqS-LcVgTtE57BH86LbHo7JblCBtX-8tjiyccplNaUmJFj7V0Mg', 'summonerLevel': 371, 'summonerName': 'boafzig', 'teamEarlySurrendered': False, 'teamId': 200, 'teamPosition': 'TOP', 'timeCCingOthers': 17, 'timePlayed': 1182, 'totalAllyJungleMinionsKilled': 0, 'totalDamageDealt': 96447, 'totalDamageDealtToChampions': 14944, 'totalDamageShieldedOnTeammates': 0, 'totalDamageTaken': 16534, 'totalEnemyJungleMinionsKilled': 0, 'totalHeal': 7215, 'totalHealsOnTeammates': 0, 'totalMinionsKilled': 131, 'totalTimeCCDealt': 99, 'totalTimeSpentDead': 35, 'totalUnitsHealed': 1, 'tripleKills': 0, 'trueDamageDealt': 7202, 'trueDamageDealtToChampions': 0, 'trueDamageTaken': 495, 'turretKills': 2, 'turretTakedowns': 3, 'turretsLost': 1, 'unrealKills': 0, 'visionClearedPings': 0, 'visionScore': 12, 'visionWardsBoughtInGame': 1, 'wardsKilled': 1, 'wardsPlaced': 3, 'win': True}, {'allInPings': 0, 'assistMePings': 0, 'assists': 3, 'baronKills': 0, 'basicPings': 0, 'bountyLevel': 2, 'challenges': {'12AssistStreakCount': 0, 'HealFromMapSources': 0, 'InfernalScalePickup': 0, 'SWARM_DefeatAatrox': 0, 'SWARM_DefeatBriar': 0, 'SWARM_DefeatMiniBosses': 0, 'SWARM_EvolveWeapon': 0, 'SWARM_Have3Passives': 0, 'SWARM_KillEnemy': 0, 'SWARM_PickupGold': 0, 'SWARM_ReachLevel50': 0, 'SWARM_Survive15Min': 0, 'SWARM_WinWith5EvolvedWeapons': 0, 'abilityUses': 164, 'acesBefore15Minutes': 0, 'alliedJungleMonsterKills': 57, 'baronTakedowns': 0, 'blastConeOppositeOpponentCount': 0, 'bountyGold': 0, 'buffsStolen': 0, 'completeSupportQuestInTime': 0, 'controlWardsPlaced': 0, 'damagePerMinute': 370.12850964345347, 'damageTakenOnTeamPercentage': 0.3849523239457541, 'dancedWithRiftHerald': 0, 'deathsByEnemyChamps': 3, 'dodgeSkillShotsSmallWindow': 0, 'doubleAces': 0, 'dragonTakedowns': 0, 'earlyLaningPhaseGoldExpAdvantage': 0, 'effectiveHealAndShielding': 0, 'elderDragonKillsWithOpposingSoul': 0, 'elderDragonMultikills': 0, 'enemyChampionImmobilizations': 1, 'enemyJungleMonsterKills': 0, 'epicMonsterKillsNearEnemyJungler': 1, 'epicMonsterKillsWithin30SecondsOfSpawn': 0, 'epicMonsterSteals': 0, 'epicMonsterStolenWithoutSmite': 0, 'firstTurretKilled': 1, 'firstTurretKilledTime': 690.928634277, 'fistBumpParticipation': 0, 'flawlessAces': 0, 'fullTeamTakedown': 1, 'gameLength': 1182.5464899840001, 'goldPerMinute': 367.03329570810155, 'hadOpenNexus': 0, 'immobilizeAndKillWithAlly': 0, 'initialBuffCount': 2, 'initialCrabCount': 1, 'jungleCsBefore10Minutes': 56.80000004172325, 'junglerKillsEarlyJungle': 0, 'junglerTakedownsNearDamagedEpicMonster': 0, 'kTurretsDestroyedBeforePlatesFall': 0, 'kda': 1.6666666666666667, 'killAfterHiddenWithAlly': 1, 'killParticipation': 0.5, 'killedChampTookFullTeamDamageSurvived': 0, 'killingSprees': 0, 'killsNearEnemyTurret': 0, 'killsOnLanersEarlyJungleAsJungler': 0, 'killsOnRecentlyHealedByAramPack': 0, 'killsUnderOwnTurret': 1, 'killsWithHelpFromEpicMonster': 0, 'knockEnemyIntoTeamAndKill': 0, 'landSkillShotsEarlyGame': 5, 'laneMinionsFirst10Minutes': 0, 'laningPhaseGoldExpAdvantage': 0, 'legendaryCount': 0, 'legendaryItemUsed': [3152, 3100], 'lostAnInhibitor': 0, 'maxCsAdvantageOnLaneOpponent': 19.400000005960464, 'maxKillDeficit': 6, 'maxLevelLeadLaneOpponent': 1, 'mejaisFullStackInTime': 0, 'moreEnemyJungleThanOpponent': -37.40000009536743, 'multiKillOneSpell': 0, 'multiTurretRiftHeraldCount': 0, 'multikills': 0, 'multikillsAfterAggressiveFlash': 0, 'outerTurretExecutesBefore10Minutes': 0, 'outnumberedKills': 0, 'outnumberedNexusKill': 0, 'perfectDragonSoulsTaken': 0, 'perfectGame': 0, 'pickKillWithAlly': 4, 'playedChampSelectPosition': 1, 'poroExplosions': 0, 'quickCleanse': 0, 'quickFirstTurret': 0, 'quickSoloKills': 0, 'riftHeraldTakedowns': 1, 'saveAllyFromDeath': 0, 'scuttleCrabKills': 2, 'skillshotsDodged': 6, 'skillshotsHit': 21, 'snowballsHit': 0, 'soloBaronKills': 0, 'soloKills': 1, 'stealthWardsPlaced': 4, 'survivedSingleDigitHpCount': 0, 'survivedThreeImmobilizesInFight': 0, 'takedownOnFirstTurret': 0, 'takedowns': 5, 'takedownsAfterGainingLevelAdvantage': 0, 'takedownsBeforeJungleMinionSpawn': 0, 'takedownsFirstXMinutes': 3, 'takedownsInAlcove': 0, 'takedownsInEnemyFountain': 0, 'teamBaronKills': 0, 'teamDamagePercentage': 0.1515770107275612, 'teamElderDragonKills': 0, 'teamRiftHeraldKills': 1, 'tookLargeDamageSurvived': 0, 'turretPlatesTaken': 0, 'turretTakedowns': 1, 'turretsTakenWithRiftHerald': 0, 'twentyMinionsIn3SecondsCount': 0, 'twoWardsOneSweeperCount': 0, 'unseenRecalls': 0, 'visionScoreAdvantageLaneOpponent': 0.2942405939102173, 'visionScorePerMinute': 0.49086183328543187, 'voidMonsterKill': 5, 'wardTakedowns': 0, 'wardTakedownsBefore20M': 0, 'wardsGuarded': 1}, 'champExperience': 7623, 'champLevel': 11, 'championId': 245, 'championName': 'Ekko', 'championTransform': 0, 'commandPings': 1, 'consumablesPurchased': 1, 'damageDealtToBuildings': 1992, 'damageDealtToObjectives': 27980, 'damageDealtToTurrets': 1992, 'damageSelfMitigated': 13845, 'dangerPings': 0, 'deaths': 3, 'detectorWardsPlaced': 0, 'doubleKills': 0, 'dragonKills': 0, 'eligibleForProgression': True, 'enemyMissingPings': 3, 'enemyVisionPings': 0, 'firstBloodAssist': False, 'firstBloodKill': False, 'firstTowerAssist': False, 'firstTowerKill': False, 'gameEndedInEarlySurrender': False, 'gameEndedInSurrender': True, 'getBackPings': 1, 'goldEarned': 7233, 'goldSpent': 7100, 'holdPings': 0, 'individualPosition': 'JUNGLE', 'inhibitorKills': 0, 'inhibitorTakedowns': 0, 'inhibitorsLost': 0, 'item0': 3152, 'item1': 3100, 'item2': 3020, 'item3': 0, 'item4': 0, 'item5': 0, 'item6': 3340, 'itemsPurchased': 12, 'killingSprees': 0, 'kills': 2, 'lane': 'NONE', 'largestCriticalStrike': 0, 'largestKillingSpree': 0, 'largestMultiKill': 1, 'longestTimeSpentLiving': 228, 'magicDamageDealt': 64388, 'magicDamageDealtToChampions': 4667, 'magicDamageTaken': 3185, 'missions': {'playerScore0': 0, 'playerScore1': 0, 'playerScore2': 0, 'playerScore3': 0, 'playerScore4': 0, 'playerScore5': 0, 'playerScore6': 0, 'playerScore7': 0, 'playerScore8': 0, 'playerScore9': 0, 'playerScore10': 0, 'playerScore11': 0}, 'needVisionPings': 0, 'neutralMinionsKilled': 110, 'nexusKills': 0, 'nexusLost': 0, 'nexusTakedowns': 0, 'objectivesStolen': 0, 'objectivesStolenAssists': 0, 'onMyWayPings': 6, 'participantId': 7, 'pentaKills': 0, 'perks': {'statPerks': {'defense': 5001, 'flex': 5008, 'offense': 5005}, 'styles': [{'description': 'primaryStyle', 'selections': [{'perk': 8128, 'var1': 215, 'var2': 8, 'var3': 0}, {'perk': 8143, 'var1': 517, 'var2': 0, 'var3': 0}, {'perk': 8138, 'var1': 10, 'var2': 0, 'var3': 0}, {'perk': 8135, 'var1': 210, 'var2': 3, 'var3': 0}], 'style': 8100}, {'description': 'subStyle', 'selections': [{'perk': 8347, 'var1': 0, 'var2': 0, 'var3': 0}, {'perk': 8304, 'var1': 10, 'var2': 3, 'var3': 0}], 'style': 8300}]}, 'physicalDamageDealt': 22411, 'physicalDamageDealtToChampions': 1683, 'physicalDamageTaken': 21248, 'placement': 0, 'playerAugment1': 0, 'playerAugment2': 0, 'playerAugment3': 0, 'playerAugment4': 0, 'playerAugment5': 0, 'playerAugment6': 0, 'playerSubteamId': 0, 'profileIcon': 6004, 'pushPings': 0, 'puuid': 'Z8rjiJZXskBmzXFwBaFU1jcNPY8S_bFhg_QS5Zrl-Q8s8u9O23JcZVe_NUfM2eLpvVDBI9aXdjl2wQ', 'quadraKills': 0, 'retreatPings': 0, 'riotIdGameName': 'KBMANDAMNNN', 'riotIdTagline': 'kbkb', 'role': 'SUPPORT', 'sightWardsBoughtInGame': 0, 'spell1Casts': 82, 'spell2Casts': 20, 'spell3Casts': 57, 'spell4Casts': 5, 'subteamPlacement': 0, 'summoner1Casts': 11, 'summoner1Id': 11, 'summoner2Casts': 3, 'summoner2Id': 4, 'summonerId': 'FFomeEpIIWbSeMUTZc9VmsaVzrKv4sEyCdoU7W-Vwt5MmXS1HImvYw1X0A', 'summonerLevel': 50, 'summonerName': '', 'teamEarlySurrendered': False, 'teamId': 200, 'teamPosition': 'JUNGLE', 'timeCCingOthers': 8, 'timePlayed': 1182, 'totalAllyJungleMinionsKilled': 84, 'totalDamageDealt': 145930, 'totalDamageDealtToChampions': 7294, 'totalDamageShieldedOnTeammates': 0, 'totalDamageTaken': 24694, 'totalEnemyJungleMinionsKilled': 0, 'totalHeal': 13879, 'totalHealsOnTeammates': 0, 'totalMinionsKilled': 7, 'totalTimeCCDealt': 198, 'totalTimeSpentDead': 40, 'totalUnitsHealed': 1, 'tripleKills': 0, 'trueDamageDealt': 59131, 'trueDamageDealtToChampions': 943, 'trueDamageTaken': 260, 'turretKills': 1, 'turretTakedowns': 1, 'turretsLost': 1, 'unrealKills': 0, 'visionClearedPings': 0, 'visionScore': 9, 'visionWardsBoughtInGame': 0, 'wardsKilled': 0, 'wardsPlaced': 4, 'win': True}, {'allInPings': 0, 'assistMePings': 0, 'assists': 2, 'baronKills': 0, 'basicPings': 0, 'bountyLevel': 3, 'challenges': {'12AssistStreakCount': 0, 'HealFromMapSources': 506, 'InfernalScalePickup': 0, 'SWARM_DefeatAatrox': 0, 'SWARM_DefeatBriar': 0, 'SWARM_DefeatMiniBosses': 0, 'SWARM_EvolveWeapon': 0, 'SWARM_Have3Passives': 0, 'SWARM_KillEnemy': 0, 'SWARM_PickupGold': 0, 'SWARM_ReachLevel50': 0, 'SWARM_Survive15Min': 0, 'SWARM_WinWith5EvolvedWeapons': 0, 'abilityUses': 97, 'acesBefore15Minutes': 0, 'alliedJungleMonsterKills': 2, 'baronTakedowns': 0, 'blastConeOppositeOpponentCount': 0, 'bountyGold': 0, 'buffsStolen': 0, 'completeSupportQuestInTime': 0, 'controlWardTimeCoverageInRiverOrEnemyHalf': 0.16026897098275122, 'controlWardsPlaced': 1, 'damagePerMinute': 586.4281866494592, 'damageTakenOnTeamPercentage': 0.14032210119342542, 'dancedWithRiftHerald': 0, 'deathsByEnemyChamps': 4, 'dodgeSkillShotsSmallWindow': 0, 'doubleAces': 0, 'dragonTakedowns': 0, 'earlyLaningPhaseGoldExpAdvantage': 0, 'effectiveHealAndShielding': 0, 'elderDragonKillsWithOpposingSoul': 0, 'elderDragonMultikills': 0, 'enemyChampionImmobilizations': 5, 'enemyJungleMonsterKills': 0, 'epicMonsterKillsNearEnemyJungler': 0, 'epicMonsterKillsWithin30SecondsOfSpawn': 0, 'epicMonsterSteals': 0, 'epicMonsterStolenWithoutSmite': 0, 'firstTurretKilled': 1, 'firstTurretKilledTime': 690.928634277, 'fistBumpParticipation': 0, 'flawlessAces': 0, 'fullTeamTakedown': 1, 'gameLength': 1182.5464899840001, 'getTakedownsInAllLanesEarlyJungleAsLaner': 0, 'goldPerMinute': 393.42417147013794, 'hadOpenNexus': 0, 'immobilizeAndKillWithAlly': 1, 'initialBuffCount': 0, 'initialCrabCount': 0, 'jungleCsBefore10Minutes': 0.800000011920929, 'junglerTakedownsNearDamagedEpicMonster': 0, 'kTurretsDestroyedBeforePlatesFall': 1, 'kda': 1.25, 'killAfterHiddenWithAlly': 0, 'killParticipation': 0.5, 'killedChampTookFullTeamDamageSurvived': 0, 'killingSprees': 0, 'killsNearEnemyTurret': 0, 'killsOnOtherLanesEarlyJungleAsLaner': 0, 'killsOnRecentlyHealedByAramPack': 0, 'killsUnderOwnTurret': 1, 'killsWithHelpFromEpicMonster': 0, 'knockEnemyIntoTeamAndKill': 0, 'landSkillShotsEarlyGame': 8, 'laneMinionsFirst10Minutes': 63, 'laningPhaseGoldExpAdvantage': 0, 'legendaryCount': 0, 'legendaryItemUsed': [2503], 'lostAnInhibitor': 0, 'maxCsAdvantageOnLaneOpponent': 6, 'maxKillDeficit': 6, 'maxLevelLeadLaneOpponent': 2, 'mejaisFullStackInTime': 0, 'moreEnemyJungleThanOpponent': 0, 'multiKillOneSpell': 0, 'multiTurretRiftHeraldCount': 0, 'multikills': 0, 'multikillsAfterAggressiveFlash': 0, 'outerTurretExecutesBefore10Minutes': 0, 'outnumberedKills': 0, 'outnumberedNexusKill': 0, 'perfectDragonSoulsTaken': 0, 'perfectGame': 0, 'pickKillWithAlly': 4, 'playedChampSelectPosition': 1, 'poroExplosions': 0, 'quickCleanse': 0, 'quickFirstTurret': 0, 'quickSoloKills': 0, 'riftHeraldTakedowns': 0, 'saveAllyFromDeath': 0, 'scuttleCrabKills': 0, 'skillshotsDodged': 7, 'skillshotsHit': 26, 'snowballsHit': 0, 'soloBaronKills': 0, 'soloKills': 1, 'stealthWardsPlaced': 5, 'survivedSingleDigitHpCount': 0, 'survivedThreeImmobilizesInFight': 0, 'takedownOnFirstTurret': 0, 'takedowns': 5, 'takedownsAfterGainingLevelAdvantage': 0, 'takedownsBeforeJungleMinionSpawn': 0, 'takedownsFirstXMinutes': 2, 'takedownsInAlcove': 0, 'takedownsInEnemyFountain': 0, 'teamBaronKills': 0, 'teamDamagePercentage': 0.2401572135697857, 'teamElderDragonKills': 0, 'teamRiftHeraldKills': 1, 'tookLargeDamageSurvived': 0, 'turretPlatesTaken': 4, 'turretTakedowns': 2, 'turretsTakenWithRiftHerald': 0, 'twentyMinionsIn3SecondsCount': 0, 'twoWardsOneSweeperCount': 0, 'unseenRecalls': 0, 'visionScoreAdvantageLaneOpponent': 0.01643848419189453, 'visionScorePerMinute': 0.5113978236603305, 'voidMonsterKill': 0, 'wardTakedowns': 0, 'wardTakedownsBefore20M': 0, 'wardsGuarded': 0}, 'champExperience': 7846, 'champLevel': 11, 'championId': 112, 'championName': 'Viktor', 'championTransform': 0, 'commandPings': 0, 'consumablesPurchased': 3, 'damageDealtToBuildings': 5084, 'damageDealtToObjectives': 5084, 'damageDealtToTurrets': 5084, 'damageSelfMitigated': 6150, 'dangerPings': 0, 'deaths': 4, 'detectorWardsPlaced': 1, 'doubleKills': 0, 'dragonKills': 0, 'eligibleForProgression': True, 'enemyMissingPings': 9, 'enemyVisionPings': 0, 'firstBloodAssist': False, 'firstBloodKill': False, 'firstTowerAssist': False, 'firstTowerKill': False, 'gameEndedInEarlySurrender': False, 'gameEndedInSurrender': True, 'getBackPings': 1, 'goldEarned': 7754, 'goldSpent': 6325, 'holdPings': 0, 'individualPosition': 'MIDDLE', 'inhibitorKills': 0, 'inhibitorTakedowns': 0, 'inhibitorsLost': 0, 'item0': 1056, 'item1': 1052, 'item2': 2503, 'item3': 0, 'item4': 3020, 'item5': 3147, 'item6': 3340, 'itemsPurchased': 11, 'killingSprees': 0, 'kills': 3, 'lane': 'NONE', 'largestCriticalStrike': 0, 'largestKillingSpree': 0, 'largestMultiKill': 1, 'longestTimeSpentLiving': 359, 'magicDamageDealt': 55604, 'magicDamageDealtToChampions': 10189, 'magicDamageTaken': 349, 'missions': {'playerScore0': 0, 'playerScore1': 0, 'playerScore2': 0, 'playerScore3': 0, 'playerScore4': 0, 'playerScore5': 0, 'playerScore6': 0, 'playerScore7': 0, 'playerScore8': 0, 'playerScore9': 0, 'playerScore10': 0, 'playerScore11': 0}, 'needVisionPings': 0, 'neutralMinionsKilled': 0, 'nexusKills': 0, 'nexusLost': 0, 'nexusTakedowns': 0, 'objectivesStolen': 0, 'objectivesStolenAssists': 0, 'onMyWayPings': 0, 'participantId': 8, 'pentaKills': 0, 'perks': {'statPerks': {'defense': 5001, 'flex': 5008, 'offense': 5005}, 'styles': [{'description': 'primaryStyle', 'selections': [{'perk': 8214, 'var1': 934, 'var2': 0, 'var3': 0}, {'perk': 8226, 'var1': 250, 'var2': 331, 'var3': 0}, {'perk': 8210, 'var1': 1, 'var2': 0, 'var3': 0}, {'perk': 8237, 'var1': 410, 'var2': 0, 'var3': 0}], 'style': 8200}, {'description': 'subStyle', 'selections': [{'perk': 8473, 'var1': 413, 'var2': 0, 'var3': 0}, {'perk': 8401, 'var1': 357, 'var2': 0, 'var3': 0}], 'style': 8400}]}, 'physicalDamageDealt': 12148, 'physicalDamageDealtToChampions': 1368, 'physicalDamageTaken': 8296, 'placement': 0, 'playerAugment1': 0, 'playerAugment2': 0, 'playerAugment3': 0, 'playerAugment4': 0, 'playerAugment5': 0, 'playerAugment6': 0, 'playerSubteamId': 0, 'profileIcon': 691, 'pushPings': 0, 'puuid': 'Qa2EChGhASvCiRiSMoP0MCdbMVTyXS7bcvrrWdU9IyoGB50YL_ISxh5OAm_L1XnCqP0aydx9sSqdVQ', 'quadraKills': 0, 'retreatPings': 0, 'riotIdGameName': 'beachplease', 'riotIdTagline': 'EUW', 'role': 'SUPPORT', 'sightWardsBoughtInGame': 0, 'spell1Casts': 37, 'spell2Casts': 7, 'spell3Casts': 43, 'spell4Casts': 10, 'subteamPlacement': 0, 'summoner1Casts': 2, 'summoner1Id': 4, 'summoner2Casts': 3, 'summoner2Id': 12, 'summonerId': 'YFAzvszXgaNRB5OprxrFjrHwOtje3LoALjer-P8P80BsCQk', 'summonerLevel': 510, 'summonerName': 'beachplease', 'teamEarlySurrendered': False, 'teamId': 200, 'teamPosition': 'MIDDLE', 'timeCCingOthers': 11, 'timePlayed': 1182, 'totalAllyJungleMinionsKilled': 0, 'totalDamageDealt': 68835, 'totalDamageDealtToChampions': 11557, 'totalDamageShieldedOnTeammates': 0, 'totalDamageTaken': 9001, 'totalEnemyJungleMinionsKilled': 0, 'totalHeal': 370, 'totalHealsOnTeammates': 0, 'totalMinionsKilled': 123, 'totalTimeCCDealt': 35, 'totalTimeSpentDead': 97, 'totalUnitsHealed': 1, 'tripleKills': 0, 'trueDamageDealt': 1082, 'trueDamageDealtToChampions': 0, 'trueDamageTaken': 354, 'turretKills': 1, 'turretTakedowns': 2, 'turretsLost': 1, 'unrealKills': 0, 'visionClearedPings': 0, 'visionScore': 10, 'visionWardsBoughtInGame': 1, 'wardsKilled': 0, 'wardsPlaced': 6, 'win': True}, {'allInPings': 0, 'assistMePings': 0, 'assists': 2, 'baronKills': 0, 'basicPings': 0, 'bountyLevel': 0, 'challenges': {'12AssistStreakCount': 0, 'HealFromMapSources': 0, 'InfernalScalePickup': 0, 'SWARM_DefeatAatrox': 0, 'SWARM_DefeatBriar': 0, 'SWARM_DefeatMiniBosses': 0, 'SWARM_EvolveWeapon': 0, 'SWARM_Have3Passives': 0, 'SWARM_KillEnemy': 0, 'SWARM_PickupGold': 0, 'SWARM_ReachLevel50': 0, 'SWARM_Survive15Min': 0, 'SWARM_WinWith5EvolvedWeapons': 0, 'abilityUses': 185, 'acesBefore15Minutes': 0, 'alliedJungleMonsterKills': 0, 'baronTakedowns': 0, 'blastConeOppositeOpponentCount': 0, 'bountyGold': 0, 'buffsStolen': 0, 'completeSupportQuestInTime': 0, 'controlWardsPlaced': 0, 'damagePerMinute': 441.9736881556526, 'damageTakenOnTeamPercentage': 0.10943214906886838, 'dancedWithRiftHerald': 0, 'deathsByEnemyChamps': 2, 'dodgeSkillShotsSmallWindow': 0, 'doubleAces': 0, 'dragonTakedowns': 0, 'earlyLaningPhaseGoldExpAdvantage': 0, 'effectiveHealAndShielding': 0, 'elderDragonKillsWithOpposingSoul': 0, 'elderDragonMultikills': 0, 'enemyChampionImmobilizations': 0, 'enemyJungleMonsterKills': 0, 'epicMonsterKillsNearEnemyJungler': 0, 'epicMonsterKillsWithin30SecondsOfSpawn': 0, 'epicMonsterSteals': 0, 'epicMonsterStolenWithoutSmite': 0, 'firstTurretKilled': 1, 'firstTurretKilledTime': 690.928634277, 'fistBumpParticipation': 0, 'flawlessAces': 0, 'fullTeamTakedown': 1, 'gameLength': 1182.5464899840001, 'getTakedownsInAllLanesEarlyJungleAsLaner': 0, 'goldPerMinute': 297.3975969264078, 'hadOpenNexus': 0, 'immobilizeAndKillWithAlly': 0, 'initialBuffCount': 0, 'initialCrabCount': 0, 'jungleCsBefore10Minutes': 4, 'junglerTakedownsNearDamagedEpicMonster': 0, 'kTurretsDestroyedBeforePlatesFall': 0, 'kda': 1, 'killAfterHiddenWithAlly': 0, 'killParticipation': 0.2, 'killedChampTookFullTeamDamageSurvived': 0, 'killingSprees': 0, 'killsNearEnemyTurret': 0, 'killsOnOtherLanesEarlyJungleAsLaner': 0, 'killsOnRecentlyHealedByAramPack': 0, 'killsUnderOwnTurret': 0, 'killsWithHelpFromEpicMonster': 0, 'knockEnemyIntoTeamAndKill': 0, 'landSkillShotsEarlyGame': 16, 'laneMinionsFirst10Minutes': 52, 'laningPhaseGoldExpAdvantage': 0, 'legendaryCount': 0, 'legendaryItemUsed': [3078], 'lostAnInhibitor': 0, 'maxCsAdvantageOnLaneOpponent': 12, 'maxKillDeficit': 6, 'maxLevelLeadLaneOpponent': 1, 'mejaisFullStackInTime': 0, 'moreEnemyJungleThanOpponent': 0, 'multiKillOneSpell': 0, 'multiTurretRiftHeraldCount': 0, 'multikills': 0, 'multikillsAfterAggressiveFlash': 0, 'outerTurretExecutesBefore10Minutes': 0, 'outnumberedKills': 0, 'outnumberedNexusKill': 0, 'perfectDragonSoulsTaken': 0, 'perfectGame': 0, 'pickKillWithAlly': 2, 'playedChampSelectPosition': 1, 'poroExplosions': 0, 'quickCleanse': 0, 'quickFirstTurret': 0, 'quickSoloKills': 0, 'riftHeraldTakedowns': 0, 'saveAllyFromDeath': 0, 'scuttleCrabKills': 1, 'skillshotsDodged': 11, 'skillshotsHit': 59, 'snowballsHit': 0, 'soloBaronKills': 0, 'soloKills': 0, 'stealthWardsPlaced': 5, 'survivedSingleDigitHpCount': 0, 'survivedThreeImmobilizesInFight': 4, 'takedownOnFirstTurret': 0, 'takedowns': 2, 'takedownsAfterGainingLevelAdvantage': 0, 'takedownsBeforeJungleMinionSpawn': 0, 'takedownsFirstXMinutes': 0, 'takedownsInAlcove': 0, 'takedownsInEnemyFountain': 0, 'teamBaronKills': 0, 'teamDamagePercentage': 0.18099943323848214, 'teamElderDragonKills': 0, 'teamRiftHeraldKills': 1, 'tookLargeDamageSurvived': 0, 'turretPlatesTaken': 0, 'turretTakedowns': 1, 'turretsTakenWithRiftHerald': 0, 'twentyMinionsIn3SecondsCount': 0, 'twoWardsOneSweeperCount': 0, 'unseenRecalls': 0, 'visionScoreAdvantageLaneOpponent': -0.0752636194229126, 'visionScorePerMinute': 0.6996222648192496, 'voidMonsterKill': 0, 'wardTakedowns': 3, 'wardTakedownsBefore20M': 3, 'wardsGuarded': 0}, 'champExperience': 6080, 'champLevel': 9, 'championId': 81, 'championName': 'Ezreal', 'championTransform': 0, 'commandPings': 3, 'consumablesPurchased': 2, 'damageDealtToBuildings': 1533, 'damageDealtToObjectives': 1533, 'damageDealtToTurrets': 1533, 'damageSelfMitigated': 2898, 'dangerPings': 0, 'deaths': 2, 'detectorWardsPlaced': 0, 'doubleKills': 0, 'dragonKills': 0, 'eligibleForProgression': True, 'enemyMissingPings': 11, 'enemyVisionPings': 0, 'firstBloodAssist': False, 'firstBloodKill': False, 'firstTowerAssist': False, 'firstTowerKill': False, 'gameEndedInEarlySurrender': False, 'gameEndedInSurrender': True, 'getBackPings': 0, 'goldEarned': 5861, 'goldSpent': 5483, 'holdPings': 0, 'individualPosition': 'BOTTOM', 'inhibitorKills': 0, 'inhibitorTakedowns': 0, 'inhibitorsLost': 0, 'item0': 3158, 'item1': 3078, 'item2': 3133, 'item3': 0, 'item4': 3070, 'item5': 0, 'item6': 3340, 'itemsPurchased': 14, 'killingSprees': 0, 'kills': 0, 'lane': 'NONE', 'largestCriticalStrike': 0, 'largestKillingSpree': 0, 'largestMultiKill': 0, 'longestTimeSpentLiving': 431, 'magicDamageDealt': 5874, 'magicDamageDealtToChampions': 2768, 'magicDamageTaken': 1434, 'missions': {'playerScore0': 0, 'playerScore1': 0, 'playerScore2': 0, 'playerScore3': 0, 'playerScore4': 0, 'playerScore5': 0, 'playerScore6': 0, 'playerScore7': 0, 'playerScore8': 0, 'playerScore9': 0, 'playerScore10': 0, 'playerScore11': 0}, 'needVisionPings': 0, 'neutralMinionsKilled': 4, 'nexusKills': 0, 'nexusLost': 0, 'nexusTakedowns': 0, 'objectivesStolen': 0, 'objectivesStolenAssists': 0, 'onMyWayPings': 2, 'participantId': 9, 'pentaKills': 0, 'perks': {'statPerks': {'defense': 5001, 'flex': 5008, 'offense': 5005}, 'styles': [{'description': 'primaryStyle', 'selections': [{'perk': 8005, 'var1': 149, 'var2': 149, 'var3': 0}, {'perk': 8009, 'var1': 740, 'var2': 0, 'var3': 0}, {'perk': 9103, 'var1': 0, 'var2': 0, 'var3': 0}, {'perk': 8014, 'var1': 68, 'var2': 0, 'var3': 0}], 'style': 8000}, {'description': 'subStyle', 'selections': [{'perk': 8304, 'var1': 12, 'var2': 0, 'var3': 0}, {'perk': 8345, 'var1': 3, 'var2': 0, 'var3': 86}], 'style': 8300}]}, 'physicalDamageDealt': 43476, 'physicalDamageDealtToChampions': 5942, 'physicalDamageTaken': 5357, 'placement': 0, 'playerAugment1': 0, 'playerAugment2': 0, 'playerAugment3': 0, 'playerAugment4': 0, 'playerAugment5': 0, 'playerAugment6': 0, 'playerSubteamId': 0, 'profileIcon': 5692, 'pushPings': 0, 'puuid': '_3JLdRPGDi9m1S9ndiFAy1izoV2lJqD0qDq9qgqknG4auDxpRIwDaX9Ol8pxVxb__ZLgnD7-S-EuXw', 'quadraKills': 0, 'retreatPings': 3, 'riotIdGameName': 'TheKilleur16', 'riotIdTagline': 'EUW', 'role': 'SUPPORT', 'sightWardsBoughtInGame': 0, 'spell1Casts': 148, 'spell2Casts': 16, 'spell3Casts': 15, 'spell4Casts': 6, 'subteamPlacement': 0, 'summoner1Casts': 1, 'summoner1Id': 4, 'summoner2Casts': 1, 'summoner2Id': 21, 'summonerId': 'bTt_b74m1DRy8B3aMFbe_yHnYG-0rbyFWtRjYwrVGGYxRgM', 'summonerLevel': 176, 'summonerName': 'TheKilleur16', 'teamEarlySurrendered': False, 'teamId': 200, 'teamPosition': 'BOTTOM', 'timeCCingOthers': 0, 'timePlayed': 1182, 'totalAllyJungleMinionsKilled': 0, 'totalDamageDealt': 49590, 'totalDamageDealtToChampions': 8710, 'totalDamageShieldedOnTeammates': 0, 'totalDamageTaken': 7019, 'totalEnemyJungleMinionsKilled': 0, 'totalHeal': 595, 'totalHealsOnTeammates': 0, 'totalMinionsKilled': 122, 'totalTimeCCDealt': 0, 'totalTimeSpentDead': 39, 'totalUnitsHealed': 1, 'tripleKills': 0, 'trueDamageDealt': 240, 'trueDamageDealtToChampions': 0, 'trueDamageTaken': 228, 'turretKills': 0, 'turretTakedowns': 1, 'turretsLost': 1, 'unrealKills': 0, 'visionClearedPings': 0, 'visionScore': 13, 'visionWardsBoughtInGame': 0, 'wardsKilled': 3, 'wardsPlaced': 5, 'win': True}, {'allInPings': 0, 'assistMePings': 1, 'assists': 2, 'baronKills': 0, 'basicPings': 0, 'bountyLevel': 1, 'challenges': {'12AssistStreakCount': 0, 'HealFromMapSources': 0, 'InfernalScalePickup': 0, 'SWARM_DefeatAatrox': 0, 'SWARM_DefeatBriar': 0, 'SWARM_DefeatMiniBosses': 0, 'SWARM_EvolveWeapon': 0, 'SWARM_Have3Passives': 0, 'SWARM_KillEnemy': 0, 'SWARM_PickupGold': 0, 'SWARM_ReachLevel50': 0, 'SWARM_Survive15Min': 0, 'SWARM_WinWith5EvolvedWeapons': 0, 'abilityUses': 77, 'acesBefore15Minutes': 0, 'alliedJungleMonsterKills': 0, 'baronTakedowns': 0, 'blastConeOppositeOpponentCount': 0, 'bountyGold': 0, 'buffsStolen': 0, 'completeSupportQuestInTime': 1, 'controlWardsPlaced': 0, 'damagePerMinute': 285.07305338704793, 'damageTakenOnTeamPercentage': 0.10754524443667983, 'dancedWithRiftHerald': 0, 'deathsByEnemyChamps': 2, 'dodgeSkillShotsSmallWindow': 0, 'doubleAces': 0, 'dragonTakedowns': 0, 'earlyLaningPhaseGoldExpAdvantage': 0, 'effectiveHealAndShielding': 2021.815185546875, 'elderDragonKillsWithOpposingSoul': 0, 'elderDragonMultikills': 0, 'enemyChampionImmobilizations': 6, 'enemyJungleMonsterKills': 0, 'epicMonsterKillsNearEnemyJungler': 0, 'epicMonsterKillsWithin30SecondsOfSpawn': 0, 'epicMonsterSteals': 0, 'epicMonsterStolenWithoutSmite': 0, 'fasterSupportQuestCompletion': 1, 'firstTurretKilled': 1, 'firstTurretKilledTime': 690.928634277, 'fistBumpParticipation': 0, 'flawlessAces': 0, 'fullTeamTakedown': 1, 'gameLength': 1182.5464899840001, 'getTakedownsInAllLanesEarlyJungleAsLaner': 0, 'goldPerMinute': 270.96879156413587, 'hadOpenNexus': 0, 'highestWardKills': 1, 'immobilizeAndKillWithAlly': 1, 'initialBuffCount': 0, 'initialCrabCount': 0, 'jungleCsBefore10Minutes': 0, 'junglerTakedownsNearDamagedEpicMonster': 0, 'kTurretsDestroyedBeforePlatesFall': 0, 'kda': 1.5, 'killAfterHiddenWithAlly': 0, 'killParticipation': 0.3, 'killedChampTookFullTeamDamageSurvived': 0, 'killingSprees': 0, 'killsNearEnemyTurret': 1, 'killsOnOtherLanesEarlyJungleAsLaner': 0, 'killsOnRecentlyHealedByAramPack': 0, 'killsUnderOwnTurret': 0, 'killsWithHelpFromEpicMonster': 0, 'knockEnemyIntoTeamAndKill': 0, 'landSkillShotsEarlyGame': 1, 'laneMinionsFirst10Minutes': 14, 'laningPhaseGoldExpAdvantage': 0, 'legendaryCount': 0, 'legendaryItemUsed': [3877, 3179], 'lostAnInhibitor': 0, 'maxCsAdvantageOnLaneOpponent': 4, 'maxKillDeficit': 6, 'maxLevelLeadLaneOpponent': 1, 'mejaisFullStackInTime': 0, 'moreEnemyJungleThanOpponent': 0, 'multiKillOneSpell': 0, 'multiTurretRiftHeraldCount': 0, 'multikills': 0, 'multikillsAfterAggressiveFlash': 0, 'outerTurretExecutesBefore10Minutes': 0, 'outnumberedKills': 0, 'outnumberedNexusKill': 0, 'perfectDragonSoulsTaken': 0, 'perfectGame': 0, 'pickKillWithAlly': 3, 'playedChampSelectPosition': 1, 'poroExplosions': 0, 'quickCleanse': 0, 'quickFirstTurret': 0, 'quickSoloKills': 0, 'riftHeraldTakedowns': 0, 'saveAllyFromDeath': 0, 'scuttleCrabKills': 0, 'skillshotsDodged': 9, 'skillshotsHit': 10, 'snowballsHit': 0, 'soloBaronKills': 0, 'soloKills': 0, 'stealthWardsPlaced': 15, 'survivedSingleDigitHpCount': 0, 'survivedThreeImmobilizesInFight': 0, 'takedownOnFirstTurret': 0, 'takedowns': 3, 'takedownsAfterGainingLevelAdvantage': 0, 'takedownsBeforeJungleMinionSpawn': 0, 'takedownsFirstXMinutes': 0, 'takedownsInAlcove': 0, 'takedownsInEnemyFountain': 0, 'teamBaronKills': 0, 'teamDamagePercentage': 0.11674464448310694, 'teamElderDragonKills': 0, 'teamRiftHeraldKills': 1, 'tookLargeDamageSurvived': 0, 'turretPlatesTaken': 0, 'turretTakedowns': 2, 'turretsTakenWithRiftHerald': 0, 'twentyMinionsIn3SecondsCount': 0, 'twoWardsOneSweeperCount': 1, 'unseenRecalls': 0, 'visionScoreAdvantageLaneOpponent': -0.05751532316207886, 'visionScorePerMinute': 1.7508108215503677, 'voidMonsterKill': 0, 'wardTakedowns': 5, 'wardTakedownsBefore20M': 5, 'wardsGuarded': 0}, 'champExperience': 5652, 'champLevel': 9, 'championId': 235, 'championName': 'Senna', 'championTransform': 0, 'commandPings': 0, 'consumablesPurchased': 7, 'damageDealtToBuildings': 1936, 'damageDealtToObjectives': 1936, 'damageDealtToTurrets': 1936, 'damageSelfMitigated': 2277, 'dangerPings': 0, 'deaths': 2, 'detectorWardsPlaced': 0, 'doubleKills': 0, 'dragonKills': 0, 'eligibleForProgression': True, 'enemyMissingPings': 2, 'enemyVisionPings': 0, 'firstBloodAssist': False, 'firstBloodKill': False, 'firstTowerAssist': False, 'firstTowerKill': False, 'gameEndedInEarlySurrender': False, 'gameEndedInSurrender': True, 'getBackPings': 0, 'goldEarned': 5340, 'goldSpent': 3650, 'holdPings': 0, 'individualPosition': 'UTILITY', 'inhibitorKills': 0, 'inhibitorTakedowns': 0, 'inhibitorsLost': 0, 'item0': 1001, 'item1': 3877, 'item2': 3179, 'item3': 0, 'item4': 0, 'item5': 0, 'item6': 3364, 'itemsPurchased': 16, 'killingSprees': 0, 'kills': 1, 'lane': 'NONE', 'largestCriticalStrike': 247, 'largestKillingSpree': 0, 'largestMultiKill': 1, 'longestTimeSpentLiving': 303, 'magicDamageDealt': 144, 'magicDamageDealtToChampions': 144, 'magicDamageTaken': 745, 'missions': {'playerScore0': 0, 'playerScore1': 0, 'playerScore2': 0, 'playerScore3': 0, 'playerScore4': 0, 'playerScore5': 0, 'playerScore6': 0, 'playerScore7': 0, 'playerScore8': 0, 'playerScore9': 0, 'playerScore10': 0, 'playerScore11': 0}, 'needVisionPings': 0, 'neutralMinionsKilled': 0, 'nexusKills': 0, 'nexusLost': 0, 'nexusTakedowns': 0, 'objectivesStolen': 0, 'objectivesStolenAssists': 0, 'onMyWayPings': 2, 'participantId': 10, 'pentaKills': 0, 'perks': {'statPerks': {'defense': 5011, 'flex': 5008, 'offense': 5005}, 'styles': [{'description': 'primaryStyle', 'selections': [{'perk': 8437, 'var1': 144, 'var2': 102, 'var3': 0}, {'perk': 8463, 'var1': 449, 'var2': 0, 'var3': 0}, {'perk': 8473, 'var1': 78, 'var2': 0, 'var3': 0}, {'perk': 8453, 'var1': 543, 'var2': 76, 'var3': 0}], 'style': 8400}, {'description': 'subStyle', 'selections': [{'perk': 9104, 'var1': 0, 'var2': 0, 'var3': 0}, {'perk': 8009, 'var1': 545, 'var2': 0, 'var3': 0}], 'style': 8000}]}, 'physicalDamageDealt': 18741, 'physicalDamageDealtToChampions': 5473, 'physicalDamageTaken': 6053, 'placement': 0, 'playerAugment1': 0, 'playerAugment2': 0, 'playerAugment3': 0, 'playerAugment4': 0, 'playerAugment5': 0, 'playerAugment6': 0, 'playerSubteamId': 0, 'profileIcon': 4665, 'pushPings': 0, 'puuid': 'w7jfGGav35e9_TMadwtJUPzgvfzk8eMU3gS_XiqjfVHk6rDPQLx74o4lYMeSOOHKB1tBNrOVQOrsJw', 'quadraKills': 0, 'retreatPings': 0, 'riotIdGameName': 'Cheezburgerjesus', 'riotIdTagline': '3831', 'role': 'SUPPORT', 'sightWardsBoughtInGame': 0, 'spell1Casts': 46, 'spell2Casts': 18, 'spell3Casts': 10, 'spell4Casts': 3, 'subteamPlacement': 0, 'summoner1Casts': 4, 'summoner1Id': 7, 'summoner2Casts': 3, 'summoner2Id': 4, 'summonerId': 'cJru2GMP8-tI9Vh4G0Vo6LxqWoaRChWMkhYnJ-hVx_ukx-Th', 'summonerLevel': 522, 'summonerName': 'Warm Colseslaw', 'teamEarlySurrendered': False, 'teamId': 200, 'teamPosition': 'UTILITY', 'timeCCingOthers': 14, 'timePlayed': 1182, 'totalAllyJungleMinionsKilled': 0, 'totalDamageDealt': 21990, 'totalDamageDealtToChampions': 5618, 'totalDamageShieldedOnTeammates': 417, 'totalDamageTaken': 6898, 'totalEnemyJungleMinionsKilled': 0, 'totalHeal': 3848, 'totalHealsOnTeammates': 1604, 'totalMinionsKilled': 27, 'totalTimeCCDealt': 120, 'totalTimeSpentDead': 24, 'totalUnitsHealed': 5, 'tripleKills': 0, 'trueDamageDealt': 3104, 'trueDamageDealtToChampions': 0, 'trueDamageTaken': 100, 'turretKills': 1, 'turretTakedowns': 2, 'turretsLost': 1, 'unrealKills': 0, 'visionClearedPings': 0, 'visionScore': 34, 'visionWardsBoughtInGame': 0, 'wardsKilled': 5, 'wardsPlaced': 15, 'win': True}], 'platformId': 'EUW1', 'queueId': 400, 'teams': [{'bans': [{'championId': 25, 'pickTurn': 1}, {'championId': 777, 'pickTurn': 2}, {'championId': 18, 'pickTurn': 3}, {'championId': 19, 'pickTurn': 4}, {'championId': 17, 'pickTurn': 5}], 'objectives': {'baron': {'first': False, 'kills': 0}, 'champion': {'first': True, 'kills': 12}, 'dragon': {'first': True, 'kills': 2}, 'horde': {'first': False, 'kills': 0}, 'inhibitor': {'first': False, 'kills': 0}, 'riftHerald': {'first': False, 'kills': 0}, 'tower': {'first': False, 'kills': 1}}, 'teamId': 100, 'win': False}, {'bans': [{'championId': 84, 'pickTurn': 6}, {'championId': 63, 'pickTurn': 7}, {'championId': 104, 'pickTurn': 8}, {'championId': 17, 'pickTurn': 9}, {'championId': -1, 'pickTurn': 10}], 'objectives': {'baron': {'first': False, 'kills': 0}, 'champion': {'first': False, 'kills': 10}, 'dragon': {'first': False, 'kills': 0}, 'horde': {'first': True, 'kills': 4}, 'inhibitor': {'first': False, 'kills': 0}, 'riftHerald': {'first': True, 'kills': 1}, 'tower': {'first': True, 'kills': 5}}, 'teamId': 200, 'win': True}], 'tournamentCode': ''}}\n"
     ]
    }
   ],
   "source": [
    "\n",
    "match_id = \"EUW1_7199096693\" \n",
    "api_key = \"RGAPI-af9e233d-22bd-47db-a331-726701778a18\"\n",
    "\n",
    "\n",
    "data = get_match_details(api_key, match_id)\n",
    "\n",
    "\n",
    "print(data)"
   ]
  },
  {
   "cell_type": "code",
   "execution_count": 53,
   "metadata": {},
   "outputs": [
    {
     "name": "stdout",
     "output_type": "stream",
     "text": [
      "{'dataVersion': '2', 'matchId': 'EUW1_7199096693', 'participants': ['mv3HASxS5bdGpCdIv9SajEs_JchJMMbvlU1SfqIwpRnk5ahgAFyxrGw4kbLkis7CtKApvje71Xtvjw', 'T5DeJs65YarvCu_28sOUGmS_AY_wlxk-CZmgqrcMauLYkQKjXkXfSMHn469kOq3VB4q1KRxv-u7taw', '0jVjtLcA9f0rOcmWL79yW-mWuYvOauTd8qkff7a0S9AU1cvb3vpw83rK8tufrVnIJp7vRbh6GlCiJQ', 'qSwjazdedEO4D7FyDgvJJO2amlGvLZ_ux2Lo5Oma-_bXmfppjiw8wVWdyQnM8Lei-hCulQkGLjj9sg', 'mepS4drpmwoNTCuQpEehzar_GzEWbSD2SKzbmjgmF6Q1pOMeumKCIEhcJUix-xovP5latNMuJ3K5Qw', 'aOwFuOQ02d05Ts7HmJOcO7CNuZfqURmmNC7bLPnNs2b-mSw21tDp66PQ0i5bNrOdl5hGIGnaDDOxiQ', 'Z8rjiJZXskBmzXFwBaFU1jcNPY8S_bFhg_QS5Zrl-Q8s8u9O23JcZVe_NUfM2eLpvVDBI9aXdjl2wQ', 'Qa2EChGhASvCiRiSMoP0MCdbMVTyXS7bcvrrWdU9IyoGB50YL_ISxh5OAm_L1XnCqP0aydx9sSqdVQ', '_3JLdRPGDi9m1S9ndiFAy1izoV2lJqD0qDq9qgqknG4auDxpRIwDaX9Ol8pxVxb__ZLgnD7-S-EuXw', 'w7jfGGav35e9_TMadwtJUPzgvfzk8eMU3gS_XiqjfVHk6rDPQLx74o4lYMeSOOHKB1tBNrOVQOrsJw']}\n"
     ]
    },
    {
     "data": {
      "text/html": [
       "<div>\n",
       "<style scoped>\n",
       "    .dataframe tbody tr th:only-of-type {\n",
       "        vertical-align: middle;\n",
       "    }\n",
       "\n",
       "    .dataframe tbody tr th {\n",
       "        vertical-align: top;\n",
       "    }\n",
       "\n",
       "    .dataframe thead th {\n",
       "        text-align: right;\n",
       "    }\n",
       "</style>\n",
       "<table border=\"1\" class=\"dataframe\">\n",
       "  <thead>\n",
       "    <tr style=\"text-align: right;\">\n",
       "      <th></th>\n",
       "      <th>championName</th>\n",
       "      <th>individualPosition</th>\n",
       "      <th>win</th>\n",
       "      <th>puuid</th>\n",
       "    </tr>\n",
       "  </thead>\n",
       "  <tbody>\n",
       "    <tr>\n",
       "      <th>0</th>\n",
       "      <td>Jayce</td>\n",
       "      <td>TOP</td>\n",
       "      <td>False</td>\n",
       "      <td>mv3HASxS5bdGpCdIv9SajEs_JchJMMbvlU1SfqIwpRnk5a...</td>\n",
       "    </tr>\n",
       "    <tr>\n",
       "      <th>1</th>\n",
       "      <td>Nocturne</td>\n",
       "      <td>JUNGLE</td>\n",
       "      <td>False</td>\n",
       "      <td>T5DeJs65YarvCu_28sOUGmS_AY_wlxk-CZmgqrcMauLYkQ...</td>\n",
       "    </tr>\n",
       "    <tr>\n",
       "      <th>2</th>\n",
       "      <td>Tryndamere</td>\n",
       "      <td>MIDDLE</td>\n",
       "      <td>False</td>\n",
       "      <td>0jVjtLcA9f0rOcmWL79yW-mWuYvOauTd8qkff7a0S9AU1c...</td>\n",
       "    </tr>\n",
       "    <tr>\n",
       "      <th>3</th>\n",
       "      <td>Caitlyn</td>\n",
       "      <td>BOTTOM</td>\n",
       "      <td>False</td>\n",
       "      <td>qSwjazdedEO4D7FyDgvJJO2amlGvLZ_ux2Lo5Oma-_bXmf...</td>\n",
       "    </tr>\n",
       "    <tr>\n",
       "      <th>4</th>\n",
       "      <td>Thresh</td>\n",
       "      <td>UTILITY</td>\n",
       "      <td>False</td>\n",
       "      <td>mepS4drpmwoNTCuQpEehzar_GzEWbSD2SKzbmjgmF6Q1pO...</td>\n",
       "    </tr>\n",
       "    <tr>\n",
       "      <th>5</th>\n",
       "      <td>Aatrox</td>\n",
       "      <td>TOP</td>\n",
       "      <td>True</td>\n",
       "      <td>aOwFuOQ02d05Ts7HmJOcO7CNuZfqURmmNC7bLPnNs2b-mS...</td>\n",
       "    </tr>\n",
       "    <tr>\n",
       "      <th>6</th>\n",
       "      <td>Ekko</td>\n",
       "      <td>JUNGLE</td>\n",
       "      <td>True</td>\n",
       "      <td>Z8rjiJZXskBmzXFwBaFU1jcNPY8S_bFhg_QS5Zrl-Q8s8u...</td>\n",
       "    </tr>\n",
       "    <tr>\n",
       "      <th>7</th>\n",
       "      <td>Viktor</td>\n",
       "      <td>MIDDLE</td>\n",
       "      <td>True</td>\n",
       "      <td>Qa2EChGhASvCiRiSMoP0MCdbMVTyXS7bcvrrWdU9IyoGB5...</td>\n",
       "    </tr>\n",
       "    <tr>\n",
       "      <th>8</th>\n",
       "      <td>Ezreal</td>\n",
       "      <td>BOTTOM</td>\n",
       "      <td>True</td>\n",
       "      <td>_3JLdRPGDi9m1S9ndiFAy1izoV2lJqD0qDq9qgqknG4auD...</td>\n",
       "    </tr>\n",
       "    <tr>\n",
       "      <th>9</th>\n",
       "      <td>Senna</td>\n",
       "      <td>UTILITY</td>\n",
       "      <td>True</td>\n",
       "      <td>w7jfGGav35e9_TMadwtJUPzgvfzk8eMU3gS_XiqjfVHk6r...</td>\n",
       "    </tr>\n",
       "  </tbody>\n",
       "</table>\n",
       "</div>"
      ],
      "text/plain": [
       "  championName individualPosition    win  \\\n",
       "0        Jayce                TOP  False   \n",
       "1     Nocturne             JUNGLE  False   \n",
       "2   Tryndamere             MIDDLE  False   \n",
       "3      Caitlyn             BOTTOM  False   \n",
       "4       Thresh            UTILITY  False   \n",
       "5       Aatrox                TOP   True   \n",
       "6         Ekko             JUNGLE   True   \n",
       "7       Viktor             MIDDLE   True   \n",
       "8       Ezreal             BOTTOM   True   \n",
       "9        Senna            UTILITY   True   \n",
       "\n",
       "                                               puuid  \n",
       "0  mv3HASxS5bdGpCdIv9SajEs_JchJMMbvlU1SfqIwpRnk5a...  \n",
       "1  T5DeJs65YarvCu_28sOUGmS_AY_wlxk-CZmgqrcMauLYkQ...  \n",
       "2  0jVjtLcA9f0rOcmWL79yW-mWuYvOauTd8qkff7a0S9AU1c...  \n",
       "3  qSwjazdedEO4D7FyDgvJJO2amlGvLZ_ux2Lo5Oma-_bXmf...  \n",
       "4  mepS4drpmwoNTCuQpEehzar_GzEWbSD2SKzbmjgmF6Q1pO...  \n",
       "5  aOwFuOQ02d05Ts7HmJOcO7CNuZfqURmmNC7bLPnNs2b-mS...  \n",
       "6  Z8rjiJZXskBmzXFwBaFU1jcNPY8S_bFhg_QS5Zrl-Q8s8u...  \n",
       "7  Qa2EChGhASvCiRiSMoP0MCdbMVTyXS7bcvrrWdU9IyoGB5...  \n",
       "8  _3JLdRPGDi9m1S9ndiFAy1izoV2lJqD0qDq9qgqknG4auD...  \n",
       "9  w7jfGGav35e9_TMadwtJUPzgvfzk8eMU3gS_XiqjfVHk6r...  "
      ]
     },
     "execution_count": 53,
     "metadata": {},
     "output_type": "execute_result"
    }
   ],
   "source": [
    "\n",
    "participants_df = pd.json_normalize(data[\"info\"][\"participants\"])\n",
    "\n",
    "print(data[\"metadata\"])\n",
    "metadata_df = pd.json_normalize(data[\"metadata\"])\n",
    "metadata_df = metadata_df.drop(columns=\"participants\", errors=\"ignore\")  # Exclude the participant IDs\n",
    "\n",
    "result_df = participants_df.copy()\n",
    "result_df[\"matchId\"] = data[\"metadata\"][\"matchId\"]\n",
    "\n",
    "result_df.to_csv('output.csv')\n",
    "\n",
    "columns_to_keep = [\"championName\", \"individualPosition\", \"win\",\"puuid\"]\n",
    "result_df = result_df.filter(columns_to_keep)\n",
    "result_df"
   ]
  },
  {
   "cell_type": "code",
   "execution_count": 62,
   "metadata": {},
   "outputs": [],
   "source": [
    "def fetch_and_store_match_data(api_key, puuid, visited_puuids=None, visited_match_ids=None, \n",
    "                               output_file='output_train.csv', max_depth=3, current_depth=0):\n",
    "    \"\"\"\n",
    "    Fetch match data for a given PUUID, process the data, and save to a CSV file.\n",
    "    Recursively explores PUUIDs from matches, up to a specified depth.\n",
    "\n",
    "    :param api_key: Riot API key.\n",
    "    :param puuid: The PUUID to start fetching matches.\n",
    "    :param visited_puuids: A set of already visited PUUIDs to avoid duplication.\n",
    "    :param visited_match_ids: A set of already visited match IDs to avoid duplication.\n",
    "    :param output_file: The path to the CSV file for saving match data.\n",
    "    :param max_depth: Maximum recursion depth.\n",
    "    :param current_depth: Current recursion depth.\n",
    "    \"\"\"\n",
    "    if visited_puuids is None:\n",
    "        visited_puuids = set()\n",
    "    if visited_match_ids is None:\n",
    "        visited_match_ids = set()\n",
    "\n",
    "    if puuid in visited_puuids or current_depth >= max_depth:\n",
    "        return\n",
    "\n",
    "    visited_puuids.add(puuid)\n",
    "    print(f\"Processing PUUID: {puuid}, Depth: {current_depth}\")\n",
    "\n",
    "    # Fetch match IDs\n",
    "    match_ids = get_match_ids(api_key, puuid)\n",
    "    if not isinstance(match_ids, list):\n",
    "        print(f\"Error fetching matches for {puuid}: {match_ids}\")\n",
    "        return\n",
    "\n",
    "    for match_id in match_ids:\n",
    "        if match_id in visited_match_ids:\n",
    "            continue  # Skip already processed matches\n",
    "        time.sleep(1)\n",
    "\n",
    "        visited_match_ids.add(match_id)\n",
    "        # Fetch match details\n",
    "        match_data = get_match_details(api_key, match_id)\n",
    "        if not isinstance(match_data, dict) or \"info\" not in match_data or \"participants\" not in match_data[\"info\"]:\n",
    "            print(f\"Error fetching details for match {match_id}: {match_data}\")\n",
    "            continue\n",
    "\n",
    "        # Normalize participant data\n",
    "        participants_df = pd.json_normalize(match_data[\"info\"][\"participants\"])\n",
    "        columns_to_keep = [\"championName\", \"individualPosition\", \"win\", \"puuid\"]\n",
    "        participants_df = participants_df.filter(columns_to_keep)\n",
    "\n",
    "        # Add match ID to the data\n",
    "        participants_df[\"matchId\"] = match_data[\"metadata\"].get(\"matchId\")\n",
    "\n",
    "        # Save to CSV\n",
    "        if current_depth == 0 and not pd.io.common.file_exists(output_file):\n",
    "            participants_df.to_csv(output_file, index=False, mode='w')  # Write header only on the first iteration\n",
    "        else:\n",
    "            participants_df.to_csv(output_file, index=False, mode='a', header=False)  # Append without header\n",
    "\n",
    "        # Recursively fetch data for other PUUIDs\n",
    "        for participant_puuid in participants_df[\"puuid\"]:\n",
    "            fetch_and_store_match_data(api_key, participant_puuid, visited_puuids, visited_match_ids, \n",
    "                                       output_file, max_depth, current_depth + 1)"
   ]
  },
  {
   "cell_type": "code",
   "execution_count": 63,
   "metadata": {},
   "outputs": [
    {
     "name": "stdout",
     "output_type": "stream",
     "text": [
      "Processing PUUID: T5DeJs65YarvCu_28sOUGmS_AY_wlxk-CZmgqrcMauLYkQKjXkXfSMHn469kOq3VB4q1KRxv-u7taw, Depth: 0\n"
     ]
    },
    {
     "ename": "AttributeError",
     "evalue": "'list' object has no attribute 'to_csv'",
     "output_type": "error",
     "traceback": [
      "\u001b[1;31m---------------------------------------------------------------------------\u001b[0m",
      "\u001b[1;31mAttributeError\u001b[0m                            Traceback (most recent call last)",
      "Cell \u001b[1;32mIn[63], line 4\u001b[0m\n\u001b[0;32m      1\u001b[0m puuid \u001b[38;5;241m=\u001b[39m \u001b[38;5;124m\"\u001b[39m\u001b[38;5;124mT5DeJs65YarvCu_28sOUGmS_AY_wlxk-CZmgqrcMauLYkQKjXkXfSMHn469kOq3VB4q1KRxv-u7taw\u001b[39m\u001b[38;5;124m\"\u001b[39m  \n\u001b[0;32m      2\u001b[0m api_key \u001b[38;5;241m=\u001b[39m \u001b[38;5;124m\"\u001b[39m\u001b[38;5;124mRGAPI-af9e233d-22bd-47db-a331-726701778a18\u001b[39m\u001b[38;5;124m\"\u001b[39m\n\u001b[1;32m----> 4\u001b[0m \u001b[43mfetch_and_store_match_data\u001b[49m\u001b[43m(\u001b[49m\u001b[43mapi_key\u001b[49m\u001b[43m,\u001b[49m\u001b[43mpuuid\u001b[49m\u001b[43m)\u001b[49m\n",
      "Cell \u001b[1;32mIn[62], line 54\u001b[0m, in \u001b[0;36mfetch_and_store_match_data\u001b[1;34m(api_key, puuid, visited_puuids, visited_match_ids, output_file, max_depth, current_depth)\u001b[0m\n\u001b[0;32m     52\u001b[0m \u001b[38;5;66;03m# Save to CSV\u001b[39;00m\n\u001b[0;32m     53\u001b[0m \u001b[38;5;28;01mif\u001b[39;00m current_depth \u001b[38;5;241m==\u001b[39m \u001b[38;5;241m0\u001b[39m \u001b[38;5;129;01mand\u001b[39;00m \u001b[38;5;129;01mnot\u001b[39;00m pd\u001b[38;5;241m.\u001b[39mio\u001b[38;5;241m.\u001b[39mcommon\u001b[38;5;241m.\u001b[39mfile_exists(output_file):\n\u001b[1;32m---> 54\u001b[0m     \u001b[43mcolumns_to_keep\u001b[49m\u001b[38;5;241;43m.\u001b[39;49m\u001b[43mto_csv\u001b[49m(output_file, index\u001b[38;5;241m=\u001b[39m\u001b[38;5;28;01mFalse\u001b[39;00m, mode\u001b[38;5;241m=\u001b[39m\u001b[38;5;124m'\u001b[39m\u001b[38;5;124mw\u001b[39m\u001b[38;5;124m'\u001b[39m)  \u001b[38;5;66;03m# Write header only on the first iteration\u001b[39;00m\n\u001b[0;32m     55\u001b[0m \u001b[38;5;28;01melse\u001b[39;00m:\n\u001b[0;32m     56\u001b[0m     columns_to_keep\u001b[38;5;241m.\u001b[39mto_csv(output_file, index\u001b[38;5;241m=\u001b[39m\u001b[38;5;28;01mFalse\u001b[39;00m, mode\u001b[38;5;241m=\u001b[39m\u001b[38;5;124m'\u001b[39m\u001b[38;5;124ma\u001b[39m\u001b[38;5;124m'\u001b[39m, header\u001b[38;5;241m=\u001b[39m\u001b[38;5;28;01mFalse\u001b[39;00m)  \u001b[38;5;66;03m# Append without header\u001b[39;00m\n",
      "\u001b[1;31mAttributeError\u001b[0m: 'list' object has no attribute 'to_csv'"
     ]
    }
   ],
   "source": [
    "\n",
    "puuid = \"T5DeJs65YarvCu_28sOUGmS_AY_wlxk-CZmgqrcMauLYkQKjXkXfSMHn469kOq3VB4q1KRxv-u7taw\"  \n",
    "api_key = \"RGAPI-af9e233d-22bd-47db-a331-726701778a18\"\n",
    "\n",
    "fetch_and_store_match_data(api_key,puuid)"
   ]
  }
 ],
 "metadata": {
  "kernelspec": {
   "display_name": "Python 3",
   "language": "python",
   "name": "python3"
  },
  "language_info": {
   "codemirror_mode": {
    "name": "ipython",
    "version": 3
   },
   "file_extension": ".py",
   "mimetype": "text/x-python",
   "name": "python",
   "nbconvert_exporter": "python",
   "pygments_lexer": "ipython3",
   "version": "3.12.6"
  }
 },
 "nbformat": 4,
 "nbformat_minor": 2
}
